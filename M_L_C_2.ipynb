{
  "nbformat": 4,
  "nbformat_minor": 5,
  "metadata": {
    "celltoolbar": "Slideshow",
    "kernelspec": {
      "display_name": "Python 3",
      "language": "python",
      "name": "python3"
    },
    "language_info": {
      "codemirror_mode": {
        "name": "ipython",
        "version": 3
      },
      "file_extension": ".py",
      "mimetype": "text/x-python",
      "name": "python",
      "nbconvert_exporter": "python",
      "pygments_lexer": "ipython3",
      "version": "3.8.8"
    },
    "latex_envs": {
      "LaTeX_envs_menu_present": true,
      "autoclose": false,
      "autocomplete": false,
      "bibliofile": "biblio.bib",
      "cite_by": "apalike",
      "current_citInitial": 1,
      "eqLabelWithNumbers": true,
      "eqNumInitial": 1,
      "hotkeys": {
        "equation": "Ctrl-E",
        "itemize": "Ctrl-I"
      },
      "labels_anchors": false,
      "latex_user_defs": false,
      "report_style_numbering": false,
      "user_envs_cfg": false
    },
    "rise": {
      "enable_chalkboard": true,
      "theme": "sky",
      "transition": "sky"
    },
    "colab": {
      "name": "M_L_C_2",
      "provenance": [],
      "include_colab_link": true
    }
  },
  "cells": [
    {
      "cell_type": "markdown",
      "metadata": {
        "id": "view-in-github",
        "colab_type": "text"
      },
      "source": [
        "<a href=\"https://colab.research.google.com/github/Pedro-Martinez-UdeA/ML_C_2/blob/main/M_L_C_2.ipynb\" target=\"_parent\"><img src=\"https://colab.research.google.com/assets/colab-badge.svg\" alt=\"Open In Colab\"/></a>"
      ]
    },
    {
      "cell_type": "markdown",
      "metadata": {
        "id": "0a7aa13b"
      },
      "source": [
        "<table align=\"left\">\n",
        "  <td>\n",
        "    <a href=\"https://colab.research.google.com/github/marco-canas/introducci-n-al-Machine-Learning/blob/main/classes/class_2/class_2.ipynb\" target=\"_parent\"><img src=\"https://colab.research.google.com/assets/colab-badge.svg\" alt=\"Open In Colab\"/></a>\n",
        "  </td>\n",
        "  <td>\n",
        "    <a target=\"_blank\" href=\"https://kaggle.com/kernels/welcome?src=https://github.com/marco-canas/introducci-n-al-Machine-Learning/blob/main/classes/class_2/class_2.ipynb\"><img src=\"https://kaggle.com/static/images/open-in-kaggle.svg\" /></a>\n",
        "  </td>\n",
        "</table>\n"
      ],
      "id": "0a7aa13b"
    },
    {
      "cell_type": "markdown",
      "metadata": {
        "id": "9dbe5cf7"
      },
      "source": [
        "# Clase 2 Introducción al Machine Learnig"
      ],
      "id": "9dbe5cf7"
    },
    {
      "cell_type": "markdown",
      "metadata": {
        "id": "30e49929"
      },
      "source": [
        "### Programación en Python"
      ],
      "id": "30e49929"
    },
    {
      "cell_type": "markdown",
      "metadata": {
        "id": "4f7f2f6a"
      },
      "source": [
        "* Variables y tipos de datos, \n",
        "* estructuras de control, \n",
        "* funciones y\n",
        "* clases en Python. "
      ],
      "id": "4f7f2f6a"
    },
    {
      "cell_type": "markdown",
      "metadata": {
        "id": "d12847f1"
      },
      "source": [
        "Preguntas:  \n",
        "\n",
        "* ¿Cómo crear, asignar, copiar y modificar variables?,   \n",
        "* ¿Qué es una sentencia condicional y cómo influye en la ejecución de sentencias iterativas?   \n",
        "* ¿Qué diferencias hay entre paradigma funcional y OOP (programación orientada a objetos)?"
      ],
      "id": "d12847f1"
    },
    {
      "cell_type": "markdown",
      "metadata": {
        "id": "b27fc750"
      },
      "source": [
        "## Variables, expresiones y sentencias\n"
      ],
      "id": "b27fc750"
    },
    {
      "cell_type": "markdown",
      "metadata": {
        "id": "56241d40"
      },
      "source": [
        "### [Video de apoyo sobre variables, expresiones y sentencias en Python](https://www.youtube.com/watch?v=xTwdt8lkTv0) "
      ],
      "id": "56241d40"
    },
    {
      "cell_type": "markdown",
      "metadata": {
        "id": "4f4c390a"
      },
      "source": [
        "### 2.1. Valores y tipos"
      ],
      "id": "4f4c390a"
    },
    {
      "cell_type": "markdown",
      "metadata": {
        "id": "71adeb5a"
      },
      "source": [
        "El valor es uno de los elementos fundamentales (como por ejemplo una letra o un numero) que manipula un programa. "
      ],
      "id": "71adeb5a"
    },
    {
      "cell_type": "code",
      "metadata": {
        "id": "b1869905"
      },
      "source": [
        "'a'"
      ],
      "id": "b1869905",
      "execution_count": null,
      "outputs": []
    },
    {
      "cell_type": "markdown",
      "metadata": {
        "id": "f193bc64"
      },
      "source": [
        "Los valores que hemos visto hasta el momento son 2, 3, 5, 13, 0, (el resultado de sumar algunos enteros) y algunas cadenas de caracteres."
      ],
      "id": "f193bc64"
    },
    {
      "cell_type": "markdown",
      "metadata": {
        "id": "c0dd0715"
      },
      "source": [
        "Estos valores son de distintos tipos: \n",
        "* 2 es un entero y \n",
        "* 'Hola, mundo' es una cadena, llamada así porque contiene una “cadena” de letras. \n",
        "\n",
        "Usted (y el intérprete) puede identificar las cadenas porque están encerradas entre comillas."
      ],
      "id": "c0dd0715"
    },
    {
      "cell_type": "markdown",
      "metadata": {
        "id": "475206ce"
      },
      "source": [
        "La sentencia print también funciona con enteros:"
      ],
      "id": "475206ce"
    },
    {
      "cell_type": "code",
      "metadata": {
        "id": "6d414476"
      },
      "source": [
        "print(5.13)"
      ],
      "id": "6d414476",
      "execution_count": null,
      "outputs": []
    },
    {
      "cell_type": "markdown",
      "metadata": {
        "id": "cceceaed"
      },
      "source": [
        "Si no está seguro del tipo que tiene un determinado valor, puede preguntárselo al intérprete de Python."
      ],
      "id": "cceceaed"
    },
    {
      "cell_type": "code",
      "metadata": {
        "id": "3ec8e7fe"
      },
      "source": [
        "type(13.0)"
      ],
      "id": "3ec8e7fe",
      "execution_count": null,
      "outputs": []
    },
    {
      "cell_type": "markdown",
      "metadata": {
        "id": "9ff6f582"
      },
      "source": [
        "No es sorprendente que las cadenas sean de tipo string (cadena en inglés) y los enteros sean de tipo int (por integer en inglés). "
      ],
      "id": "9ff6f582"
    },
    {
      "cell_type": "markdown",
      "metadata": {
        "id": "940d0796"
      },
      "source": [
        "De forma menos obvia, los números con decimales (separados por medio de un punto en inglés) son de tipo float debido a la representación de estos números en el formato llamado de coma flotante (floating-point)."
      ],
      "id": "940d0796"
    },
    {
      "cell_type": "code",
      "metadata": {
        "id": "497ea4de"
      },
      "source": [
        "type(3.2)\n"
      ],
      "id": "497ea4de",
      "execution_count": null,
      "outputs": []
    },
    {
      "cell_type": "markdown",
      "metadata": {
        "id": "45a916bf"
      },
      "source": [
        "¿Qué ocurre con los valores como `\"17\"` y `\"3.2\"`? "
      ],
      "id": "45a916bf"
    },
    {
      "cell_type": "code",
      "metadata": {
        "id": "86026f54"
      },
      "source": [
        "type('17')  "
      ],
      "id": "86026f54",
      "execution_count": null,
      "outputs": []
    },
    {
      "cell_type": "markdown",
      "metadata": {
        "id": "ae6338c7"
      },
      "source": [
        "Parecen números, pero están entre comillas como las cadenas."
      ],
      "id": "ae6338c7"
    },
    {
      "cell_type": "markdown",
      "metadata": {
        "id": "a4352864"
      },
      "source": [
        "Cuando escriba un entero largo, podría estar tentado de usar comas entre grupos de tres dígitos, como en 1,000,000. "
      ],
      "id": "a4352864"
    },
    {
      "cell_type": "markdown",
      "metadata": {
        "id": "e3faf2d4"
      },
      "source": [
        "Éste no es un entero legal en Python, pero es una expresión legal:"
      ],
      "id": "e3faf2d4"
    },
    {
      "cell_type": "code",
      "metadata": {
        "id": "41a00ba6"
      },
      "source": [
        "print(1,000,000) "
      ],
      "id": "41a00ba6",
      "execution_count": null,
      "outputs": []
    },
    {
      "cell_type": "markdown",
      "metadata": {
        "id": "f5c88201"
      },
      "source": [
        "En fin, no era eso lo que queríamos. Python interpreta 1,000,000 como una lista de tres números que debe imprimir. Así que recuerde no insertar comas en sus enteros.\n"
      ],
      "id": "f5c88201"
    },
    {
      "cell_type": "code",
      "metadata": {
        "id": "85036dea"
      },
      "source": [
        "1_000_000 # escribir subguión para separar los grupos de ceros. "
      ],
      "id": "85036dea",
      "execution_count": null,
      "outputs": []
    },
    {
      "cell_type": "code",
      "metadata": {
        "id": "0df741c9"
      },
      "source": [
        "1000000  # La otra opción es no utilizar ningún separador. "
      ],
      "id": "0df741c9",
      "execution_count": null,
      "outputs": []
    },
    {
      "cell_type": "markdown",
      "metadata": {
        "id": "d4f7d197"
      },
      "source": [
        "## 2.2. Variables\n"
      ],
      "id": "d4f7d197"
    },
    {
      "cell_type": "markdown",
      "metadata": {
        "id": "1ebb4ca5"
      },
      "source": [
        "Una de las características más potentes de los lenguajes de programación es la capacidad de manipular variables. "
      ],
      "id": "1ebb4ca5"
    },
    {
      "cell_type": "markdown",
      "metadata": {
        "id": "e50f2048"
      },
      "source": [
        "Una variable es un nombre que hace referencia a un valor."
      ],
      "id": "e50f2048"
    },
    {
      "cell_type": "markdown",
      "metadata": {
        "id": "a6ff12cf"
      },
      "source": [
        "La **sentencia de asignación** (`=`) crea nuevas variables y les asigna un valor:"
      ],
      "id": "a6ff12cf"
    },
    {
      "cell_type": "code",
      "metadata": {
        "id": "021be8b9"
      },
      "source": [
        "mensaje = '¡Qué útil es el Machine Learning!'     # primera sentencia de asignación\n",
        "n = 13                                            # segunda sentencia de asignación\n",
        "pi = 3.14159                                     # tercera sentencia de asignación"
      ],
      "id": "021be8b9",
      "execution_count": null,
      "outputs": []
    },
    {
      "cell_type": "markdown",
      "metadata": {
        "id": "1173278e"
      },
      "source": [
        "Este ejemplo muestra tres asignaciones. "
      ],
      "id": "1173278e"
    },
    {
      "cell_type": "markdown",
      "metadata": {
        "id": "e1f7d074"
      },
      "source": [
        "La primera de ellas asigna el valor `'¡Que útil es el machine learning!'` a una variable nueva, de nombre `mensaje`. "
      ],
      "id": "e1f7d074"
    },
    {
      "cell_type": "markdown",
      "metadata": {
        "id": "68492d64"
      },
      "source": [
        "La segunda le da el valor entero $13$ a $n$, y \n",
        "* la tercera le da el valor de número en coma flotante $3.14159$ a `pi`"
      ],
      "id": "68492d64"
    },
    {
      "cell_type": "markdown",
      "metadata": {
        "id": "c83813f5"
      },
      "source": [
        "Una forma habitual de representar variables sobre el papel es escribir el nombre con una flecha señalando al valor de la variable. "
      ],
      "id": "c83813f5"
    },
    {
      "cell_type": "markdown",
      "metadata": {
        "id": "b4fc32a2"
      },
      "source": [
        "Este tipo de representación se llama diagrama de estado, ya que muestra en qué estado se halla cada una de las variables (considérelo como el “estado de ánimo” de la variable”)."
      ],
      "id": "b4fc32a2"
    },
    {
      "cell_type": "markdown",
      "metadata": {
        "id": "4cbd3e9f"
      },
      "source": [
        "El siguiente diagrama muestra el efecto de las tres sentencias de asignación anteriores:"
      ],
      "id": "4cbd3e9f"
    },
    {
      "cell_type": "markdown",
      "metadata": {
        "id": "cc8832b0"
      },
      "source": [
        "$$ \\text{mensaje} \\ \\ \\to\\  \\text{'¡Que útil es el Machine Learning!'} $$"
      ],
      "id": "cc8832b0"
    },
    {
      "cell_type": "markdown",
      "metadata": {
        "id": "04b58e46"
      },
      "source": [
        "La función `print()` también funciona con variables.\n"
      ],
      "id": "04b58e46"
    },
    {
      "cell_type": "code",
      "metadata": {
        "id": "7336910f"
      },
      "source": [
        "print(mensaje)\n",
        "print(n)\n",
        "print(pi)"
      ],
      "id": "7336910f",
      "execution_count": null,
      "outputs": []
    },
    {
      "cell_type": "markdown",
      "metadata": {
        "id": "64bd55cb"
      },
      "source": [
        "En cada caso, el resultado es el valor de la variable. "
      ],
      "id": "64bd55cb"
    },
    {
      "cell_type": "markdown",
      "metadata": {
        "id": "0754555c"
      },
      "source": [
        "## Los tipos de variables "
      ],
      "id": "0754555c"
    },
    {
      "cell_type": "markdown",
      "metadata": {
        "id": "7b2b6560"
      },
      "source": [
        "Las variables también tienen tipo. "
      ],
      "id": "7b2b6560"
    },
    {
      "cell_type": "markdown",
      "metadata": {
        "id": "c8bd1e02"
      },
      "source": [
        "De nuevo, podemos preguntar al intérprete lo que son."
      ],
      "id": "c8bd1e02"
    },
    {
      "cell_type": "code",
      "metadata": {
        "id": "2be59741"
      },
      "source": [
        "type(mensaje)"
      ],
      "id": "2be59741",
      "execution_count": null,
      "outputs": []
    },
    {
      "cell_type": "code",
      "metadata": {
        "id": "5215f39c"
      },
      "source": [
        "type(n)"
      ],
      "id": "5215f39c",
      "execution_count": null,
      "outputs": []
    },
    {
      "cell_type": "code",
      "metadata": {
        "id": "e1fef83c"
      },
      "source": [
        "type(pi)\n"
      ],
      "id": "e1fef83c",
      "execution_count": null,
      "outputs": []
    },
    {
      "cell_type": "markdown",
      "metadata": {
        "id": "878d09cf"
      },
      "source": [
        "El tipo de una variable es el tipo del valor al que se refiere."
      ],
      "id": "878d09cf"
    },
    {
      "cell_type": "markdown",
      "metadata": {
        "id": "b059048f"
      },
      "source": [
        "## 2.3. Nombres de variables y palabras reservadas  "
      ],
      "id": "b059048f"
    },
    {
      "cell_type": "markdown",
      "metadata": {
        "id": "4e553e2b"
      },
      "source": [
        "Como norma general, los programadores eligen nombres significativos para sus variables: esto permite documentar para qué se usa la variable."
      ],
      "id": "4e553e2b"
    },
    {
      "cell_type": "markdown",
      "metadata": {
        "id": "6786e5d9"
      },
      "source": [
        "Los nombres de las variables pueden tener una longitud arbitraria. "
      ],
      "id": "6786e5d9"
    },
    {
      "cell_type": "markdown",
      "metadata": {
        "id": "4adf1afd"
      },
      "source": [
        "Pueden estar formados por letras y números, pero deben comenzar con una letra. "
      ],
      "id": "4adf1afd"
    },
    {
      "cell_type": "markdown",
      "metadata": {
        "id": "5be8bdfb"
      },
      "source": [
        "Aunque es aceptable usar mayúsculas, por convención no lo hacemos. "
      ],
      "id": "5be8bdfb"
    },
    {
      "cell_type": "markdown",
      "metadata": {
        "id": "517c0efb"
      },
      "source": [
        "Si lo hace, recuerde que la distinción es importante: `Bruno` y `bruno` son dos variables diferentes."
      ],
      "id": "517c0efb"
    },
    {
      "cell_type": "markdown",
      "metadata": {
        "id": "f78db937"
      },
      "source": [
        "El guión bajo (`_`) también es legal y se utiliza a menudo para separar nombres con múltiples palabras, como mi nombre o precio del cafe colombiano."
      ],
      "id": "f78db937"
    },
    {
      "cell_type": "code",
      "metadata": {
        "id": "5c7709a5"
      },
      "source": [
        "marco_julio_cañas = 261"
      ],
      "id": "5c7709a5",
      "execution_count": null,
      "outputs": []
    },
    {
      "cell_type": "markdown",
      "metadata": {
        "id": "09379e69"
      },
      "source": [
        "Si intenta darle a una variable un nombre ilegal, obtendrá un error de sintaxis."
      ],
      "id": "09379e69"
    },
    {
      "cell_type": "code",
      "metadata": {
        "id": "61c603b9"
      },
      "source": [
        "26students = \"gran desfile\""
      ],
      "id": "61c603b9",
      "execution_count": null,
      "outputs": []
    },
    {
      "cell_type": "code",
      "metadata": {
        "id": "d3940967"
      },
      "source": [
        "mas$ = 1000000"
      ],
      "id": "d3940967",
      "execution_count": null,
      "outputs": []
    },
    {
      "cell_type": "code",
      "metadata": {
        "id": "42f8c33d"
      },
      "source": [
        "class = \"Introducción am Machine Learning\"\n"
      ],
      "id": "42f8c33d",
      "execution_count": null,
      "outputs": []
    },
    {
      "cell_type": "markdown",
      "metadata": {
        "id": "f4ce8485"
      },
      "source": [
        "* `76trombones` es ilegal porque no comienza por una letra. \n",
        "* `mas$` es ilegal porque contiene un carácter ilegal, el signo del dólar.\n",
        "* Pero ¿qué tiene de malo `class`?"
      ],
      "id": "f4ce8485"
    },
    {
      "cell_type": "markdown",
      "metadata": {
        "id": "c9667832"
      },
      "source": [
        "Resulta que `class` es una de las palabras reservadas de Python. "
      ],
      "id": "c9667832"
    },
    {
      "cell_type": "markdown",
      "metadata": {
        "id": "de8b32a9"
      },
      "source": [
        "El lenguaje usa las palabras reservadas para definir sus reglas y estructura, y no pueden usarse como nombres de variables."
      ],
      "id": "de8b32a9"
    },
    {
      "cell_type": "markdown",
      "metadata": {
        "id": "5d4ccb32"
      },
      "source": [
        "Python tiene 29 palabras reservadas:"
      ],
      "id": "5d4ccb32"
    },
    {
      "cell_type": "code",
      "metadata": {
        "id": "25b12d6d"
      },
      "source": [
        "palabras_reservadas = ['and', 'continue', 'else', 'for', 'import', 'not', 'raise', 'assert', 'def', 'except', 'from',\n",
        "                       'in', 'or', 'return', 'break', 'del', 'exec', 'global', 'is', 'pass', 'try', 'class', 'elif',\n",
        "                       'finally', 'if', 'lambda', 'print', 'while', 'as']\n",
        "import numpy as np \n",
        "import pandas as pd \n",
        "\n",
        "df = pd.DataFrame({'parabras reservadas de Python':palabras_reservadas}, index = range(len(palabras_reservadas)))  \n",
        "df "
      ],
      "id": "25b12d6d",
      "execution_count": null,
      "outputs": []
    },
    {
      "cell_type": "markdown",
      "metadata": {
        "id": "8fe22425"
      },
      "source": [
        "Tal vez quiera mantener esta lista a mano. "
      ],
      "id": "8fe22425"
    },
    {
      "cell_type": "markdown",
      "metadata": {
        "id": "5efe041d"
      },
      "source": [
        "Si el intérprete se queja de alguno de sus nombres de variable, y usted no sabe por qué, compruebe si está en esta\n",
        "lista."
      ],
      "id": "5efe041d"
    },
    {
      "cell_type": "markdown",
      "metadata": {
        "id": "daf010a6"
      },
      "source": [
        "## 2.4. Sentencias"
      ],
      "id": "daf010a6"
    },
    {
      "cell_type": "markdown",
      "metadata": {
        "id": "57b0e471"
      },
      "source": [
        "Una sentencia es una instrucción que puede ejecutar el intérprete de Python."
      ],
      "id": "57b0e471"
    },
    {
      "cell_type": "markdown",
      "metadata": {
        "id": "3fffb1b8"
      },
      "source": [
        "Hemos visto dos tipos de sentencias: `print()` y la asignación (`=`)."
      ],
      "id": "3fffb1b8"
    },
    {
      "cell_type": "markdown",
      "metadata": {
        "id": "7292c408"
      },
      "source": [
        "Cuando usted escribe una sentencia en la línea de comandos, Python la ejecuta y muestra el resultado, si lo hay. "
      ],
      "id": "7292c408"
    },
    {
      "cell_type": "markdown",
      "metadata": {
        "id": "536eb1e2"
      },
      "source": [
        "El resultado de una sentencia `print()` es un valor."
      ],
      "id": "536eb1e2"
    },
    {
      "cell_type": "markdown",
      "metadata": {
        "id": "b50c99dd"
      },
      "source": [
        "Las sentencias de asignación no entregan ningún resultado."
      ],
      "id": "b50c99dd"
    },
    {
      "cell_type": "markdown",
      "metadata": {
        "id": "3499fa81"
      },
      "source": [
        "Normalmente un guión contiene una secuencia de sentencias. "
      ],
      "id": "3499fa81"
    },
    {
      "cell_type": "markdown",
      "metadata": {
        "id": "a9b58465"
      },
      "source": [
        "Si hay más de una sentencia, los resultados aparecen de uno en uno tal como se van ejecutando las\n",
        "sentencias."
      ],
      "id": "a9b58465"
    },
    {
      "cell_type": "markdown",
      "metadata": {
        "id": "ddffccde"
      },
      "source": [
        "Por ejemplo, el guión"
      ],
      "id": "ddffccde"
    },
    {
      "cell_type": "code",
      "metadata": {
        "id": "3afbe0a9"
      },
      "source": [
        "print(1)\n",
        "x = 2\n",
        "print(x)"
      ],
      "id": "3afbe0a9",
      "execution_count": null,
      "outputs": []
    },
    {
      "cell_type": "markdown",
      "metadata": {
        "id": "af035b0b"
      },
      "source": [
        "De nuevo, la sentencia de asignación no produce ninguna salida."
      ],
      "id": "af035b0b"
    },
    {
      "cell_type": "markdown",
      "metadata": {
        "id": "85013480"
      },
      "source": [
        "## 2.5. Evaluar expresiones  "
      ],
      "id": "85013480"
    },
    {
      "cell_type": "markdown",
      "metadata": {
        "id": "aae7fd47"
      },
      "source": [
        "Una expresión es una combinación de valores, variables y operadores. "
      ],
      "id": "aae7fd47"
    },
    {
      "cell_type": "markdown",
      "metadata": {
        "id": "4d3a3eea"
      },
      "source": [
        "Si teclea una expresión en la línea de comandos, el intérprete la evalúa y muestra el resultado:"
      ],
      "id": "4d3a3eea"
    },
    {
      "cell_type": "code",
      "metadata": {
        "id": "33854c5c"
      },
      "source": [
        "1 + 1"
      ],
      "id": "33854c5c",
      "execution_count": null,
      "outputs": []
    },
    {
      "cell_type": "markdown",
      "metadata": {
        "id": "a4b7fecd"
      },
      "source": [
        "Un valor, y también una variable, se considera una expresión por sí mismo."
      ],
      "id": "a4b7fecd"
    },
    {
      "cell_type": "code",
      "metadata": {
        "id": "a208c489"
      },
      "source": [
        "17"
      ],
      "id": "a208c489",
      "execution_count": null,
      "outputs": []
    },
    {
      "cell_type": "code",
      "metadata": {
        "id": "b34e06c9"
      },
      "source": [
        "x"
      ],
      "id": "b34e06c9",
      "execution_count": null,
      "outputs": []
    },
    {
      "cell_type": "markdown",
      "metadata": {
        "id": "5ae05293"
      },
      "source": [
        "Para complicar las cosas, evaluar una expresión no es del todo lo mismo que imprimir un valor."
      ],
      "id": "5ae05293"
    },
    {
      "cell_type": "code",
      "metadata": {
        "id": "c69f1178"
      },
      "source": [
        "mensaje = \"¡Qué alegría!\""
      ],
      "id": "c69f1178",
      "execution_count": null,
      "outputs": []
    },
    {
      "cell_type": "code",
      "metadata": {
        "id": "f834f337"
      },
      "source": [
        "mensaje"
      ],
      "id": "f834f337",
      "execution_count": null,
      "outputs": []
    },
    {
      "cell_type": "code",
      "metadata": {
        "id": "21403d5b"
      },
      "source": [
        "print(mensaje)"
      ],
      "id": "21403d5b",
      "execution_count": null,
      "outputs": []
    },
    {
      "cell_type": "markdown",
      "metadata": {
        "id": "c1aab8d3"
      },
      "source": [
        "Cuando Python muestra el valor de una expresión, usa el mismo formato que usted usaría para introducir un valor. "
      ],
      "id": "c1aab8d3"
    },
    {
      "cell_type": "markdown",
      "metadata": {
        "id": "4b98ec06"
      },
      "source": [
        "En el caso de las cadenas, eso significa que incluye las comillas. "
      ],
      "id": "4b98ec06"
    },
    {
      "cell_type": "markdown",
      "metadata": {
        "id": "1a2e85aa"
      },
      "source": [
        "Pero la sentencia `print()` imprime el valor de la expresión, lo que en este caso es el contenido de la cadena."
      ],
      "id": "1a2e85aa"
    },
    {
      "cell_type": "markdown",
      "metadata": {
        "id": "bc82e02b"
      },
      "source": [
        "En un guión, una expresión sin más es una sentencia válida, pero no hace nada."
      ],
      "id": "bc82e02b"
    },
    {
      "cell_type": "markdown",
      "metadata": {
        "id": "6e695206"
      },
      "source": [
        "El guión"
      ],
      "id": "6e695206"
    },
    {
      "cell_type": "code",
      "metadata": {
        "id": "da9412d8"
      },
      "source": [
        "17\n",
        "3.2\n",
        "\"Hola, mundo\"\n",
        "x = 1 + 1"
      ],
      "id": "da9412d8",
      "execution_count": null,
      "outputs": []
    },
    {
      "cell_type": "markdown",
      "metadata": {
        "id": "8bf16d28"
      },
      "source": [
        "no presenta ninguna salida. ¿Cómo cambiaría usted el guión para mostrar los valores de estas cuatro expresiones?"
      ],
      "id": "8bf16d28"
    },
    {
      "cell_type": "code",
      "metadata": {
        "id": "0d0531a6"
      },
      "source": [
        "print(17)\n",
        "print(3.2)\n",
        "print(\"Hola, mundo\")\n",
        "x = 1 + 1\n",
        "print(x)"
      ],
      "id": "0d0531a6",
      "execution_count": null,
      "outputs": []
    },
    {
      "cell_type": "markdown",
      "metadata": {
        "id": "e01671d1"
      },
      "source": [
        "## 2.6. Operadores y expresiones"
      ],
      "id": "e01671d1"
    },
    {
      "cell_type": "markdown",
      "metadata": {
        "id": "86c2306e"
      },
      "source": [
        "Los operadores son símbolos especiales que representan cálculos simples, como la suma y la multiplicación. "
      ],
      "id": "86c2306e"
    },
    {
      "cell_type": "markdown",
      "metadata": {
        "id": "cceef011"
      },
      "source": [
        "Los valores que usa el operador se llaman operandos."
      ],
      "id": "cceef011"
    },
    {
      "cell_type": "markdown",
      "metadata": {
        "id": "0f942d32"
      },
      "source": [
        "Las siguientes expresione son legales en Python y su significado es más o menos claro:"
      ],
      "id": "0f942d32"
    },
    {
      "cell_type": "code",
      "metadata": {
        "id": "15c466c3"
      },
      "source": [
        "20+30"
      ],
      "id": "15c466c3",
      "execution_count": null,
      "outputs": []
    },
    {
      "cell_type": "code",
      "metadata": {
        "id": "004841f3"
      },
      "source": [
        "hora = 3\n",
        "minuto = 15"
      ],
      "id": "004841f3",
      "execution_count": null,
      "outputs": []
    },
    {
      "cell_type": "code",
      "metadata": {
        "id": "e0355671"
      },
      "source": [
        "hora-1"
      ],
      "id": "e0355671",
      "execution_count": null,
      "outputs": []
    },
    {
      "cell_type": "code",
      "metadata": {
        "id": "7bfefaad"
      },
      "source": [
        "hora*60+minuto"
      ],
      "id": "7bfefaad",
      "execution_count": null,
      "outputs": []
    },
    {
      "cell_type": "code",
      "metadata": {
        "id": "b5a4f869"
      },
      "source": [
        "minuto/60"
      ],
      "id": "b5a4f869",
      "execution_count": null,
      "outputs": []
    },
    {
      "cell_type": "code",
      "metadata": {
        "id": "aa1346b5"
      },
      "source": [
        "5**2"
      ],
      "id": "aa1346b5",
      "execution_count": null,
      "outputs": []
    },
    {
      "cell_type": "code",
      "metadata": {
        "id": "32e50743"
      },
      "source": [
        "(4+5)*(5-3)"
      ],
      "id": "32e50743",
      "execution_count": null,
      "outputs": []
    },
    {
      "cell_type": "markdown",
      "metadata": {
        "id": "40e769a5"
      },
      "source": [
        "Los símbolos `+, -, /`, y el uso de los paréntesis para el agrupamiento, se usan todos de la misma forma que en matemáticas. "
      ],
      "id": "40e769a5"
    },
    {
      "cell_type": "markdown",
      "metadata": {
        "id": "92894fc1"
      },
      "source": [
        "El asterisco (`*`) es el signo de multiplicación y `**` el símbolo para exponenciación."
      ],
      "id": "92894fc1"
    },
    {
      "cell_type": "markdown",
      "metadata": {
        "id": "4dd22081"
      },
      "source": [
        "Cuando aparece el nombre de una variable en el lugar de un operando, se sustituye con su valor antes de realizar la operación."
      ],
      "id": "4dd22081"
    },
    {
      "cell_type": "markdown",
      "metadata": {
        "id": "6c866ebf"
      },
      "source": [
        "La suma, resta, multiplicación y exponenciación hacen lo esperado, pero la división le puede sorprender. "
      ],
      "id": "6c866ebf"
    },
    {
      "cell_type": "markdown",
      "metadata": {
        "id": "03609002"
      },
      "source": [
        "La operación que sigue tiene un resultado inesperado:"
      ],
      "id": "03609002"
    },
    {
      "cell_type": "code",
      "metadata": {
        "id": "9486fc3c"
      },
      "source": [
        "4//3"
      ],
      "id": "9486fc3c",
      "execution_count": null,
      "outputs": []
    },
    {
      "cell_type": "markdown",
      "metadata": {
        "id": "59e7992c"
      },
      "source": [
        "## 2.7. El orden de las operaciones"
      ],
      "id": "59e7992c"
    },
    {
      "cell_type": "markdown",
      "metadata": {
        "id": "e7028258"
      },
      "source": [
        "Cuando aparece más de un operador en una expresión, el orden de evaluación depende de las reglas de precedencia. "
      ],
      "id": "e7028258"
    },
    {
      "cell_type": "markdown",
      "metadata": {
        "id": "cb678416"
      },
      "source": [
        "Python sigue las mismas reglas de precedencia que los propios matemáticos para sus operaciones matemáticas."
      ],
      "id": "cb678416"
    },
    {
      "cell_type": "markdown",
      "metadata": {
        "id": "d8785608"
      },
      "source": [
        "Los ingleses usan el acrónimo **PEMDAS** como regla parea recordar el orden de las operaciones:"
      ],
      "id": "d8785608"
    },
    {
      "cell_type": "markdown",
      "metadata": {
        "id": "b2200426"
      },
      "source": [
        "* **Paréntesis:** tienen la precedencia más alta y pueden usarse para forzar que una expresión se evalúe en el orden que \n",
        "  queramos nosotros. Puesto que las expresiones entre paréntesis se evalúan primero, 2 * (3-1) es igual a 4, y \n",
        "  (1+1)**(5-2) es igual a 8. Tambi´en puede usar par´entesis para que una expresi´on sea m´as legible; por ejemplo \n",
        "  (minuto * 100) / 60, aunque el resultado no cambie de todas formas."
      ],
      "id": "b2200426"
    },
    {
      "cell_type": "code",
      "metadata": {
        "id": "1f43c1e8"
      },
      "source": [
        "2*(3-1)"
      ],
      "id": "1f43c1e8",
      "execution_count": null,
      "outputs": []
    },
    {
      "cell_type": "markdown",
      "metadata": {
        "id": "29dbd215"
      },
      "source": [
        "* **Exponenciación** tiene la siguiente precedencia más alta; así pues 2**1+1 es igual a 3 y no a 4, y 3*1**3 es igual a 3 y no \n",
        "  a 27."
      ],
      "id": "29dbd215"
    },
    {
      "cell_type": "code",
      "metadata": {
        "id": "57d93a7e"
      },
      "source": [
        "2**1+1"
      ],
      "id": "57d93a7e",
      "execution_count": null,
      "outputs": []
    },
    {
      "cell_type": "markdown",
      "metadata": {
        "id": "30b72262"
      },
      "source": [
        "* La Multiplicación y la División tienen la misma precedencia, que es más alta que la de la Adición y la Sustracción, que \n",
        "  tienen también la misma precedencia. Por tanto 2*3-1 devuelve 5 y no 4, y 2/3-1 da -1, y no 1 (recuerde que en la divisi´on \n",
        "  de enteros 2/3 da 0)."
      ],
      "id": "30b72262"
    },
    {
      "cell_type": "code",
      "metadata": {
        "id": "5e912982"
      },
      "source": [
        "2*3/6"
      ],
      "id": "5e912982",
      "execution_count": null,
      "outputs": []
    },
    {
      "cell_type": "markdown",
      "metadata": {
        "id": "37e20c49"
      },
      "source": [
        "Los operadores que tienen la misma precedencia se evalúan de izquierda\n",
        "a derecha. "
      ],
      "id": "37e20c49"
    },
    {
      "cell_type": "markdown",
      "metadata": {
        "id": "89f4daf4"
      },
      "source": [
        "Así, en la expresión `6*4/2`, tiene lugar primero la multiplicación. "
      ],
      "id": "89f4daf4"
    },
    {
      "cell_type": "markdown",
      "metadata": {
        "id": "67325167"
      },
      "source": [
        "Note que obtiene el mismo resultado si evalúa de izquierda a derecha y de derecha a izquierda. "
      ],
      "id": "67325167"
    },
    {
      "cell_type": "code",
      "metadata": {
        "id": "ec86f8ae"
      },
      "source": [
        "6*4/2"
      ],
      "id": "ec86f8ae",
      "execution_count": null,
      "outputs": []
    },
    {
      "cell_type": "markdown",
      "metadata": {
        "id": "65e9632c"
      },
      "source": [
        "En el siguiente ejemplo es importante el uso de paréntesos para obligar a cambiar el orden de evaluación. "
      ],
      "id": "65e9632c"
    },
    {
      "cell_type": "code",
      "metadata": {
        "id": "d8461bb5"
      },
      "source": [
        "1+2*3 "
      ],
      "id": "d8461bb5",
      "execution_count": null,
      "outputs": []
    },
    {
      "cell_type": "markdown",
      "metadata": {
        "id": "2cc81d1c"
      },
      "source": [
        "## 2.8. Las operaciones sobre cadenas"
      ],
      "id": "2cc81d1c"
    },
    {
      "cell_type": "markdown",
      "metadata": {
        "id": "abc7b3fa"
      },
      "source": [
        "## [Video de apoyo a esta sección](https://www.youtube.com/watch?v=7QtOS0w0SNI)"
      ],
      "id": "abc7b3fa"
    },
    {
      "cell_type": "markdown",
      "metadata": {
        "id": "bc001823"
      },
      "source": [
        "En general no es posible realizar operaciones matemáticas con cadenas, incluso si las cadenas parecen números. "
      ],
      "id": "bc001823"
    },
    {
      "cell_type": "markdown",
      "metadata": {
        "id": "65d4e6c8"
      },
      "source": [
        "Las siguientes sentencias son ilegales (suponiendo que `mensaje` sea de tipo string) "
      ],
      "id": "65d4e6c8"
    },
    {
      "cell_type": "code",
      "metadata": {
        "id": "f034ef04"
      },
      "source": [
        "mensaje = \"\""
      ],
      "id": "f034ef04",
      "execution_count": null,
      "outputs": []
    },
    {
      "cell_type": "code",
      "metadata": {
        "id": "10d72b7f"
      },
      "source": [
        "type(mensaje) "
      ],
      "id": "10d72b7f",
      "execution_count": null,
      "outputs": []
    },
    {
      "cell_type": "code",
      "metadata": {
        "id": "2c3c2247"
      },
      "source": [
        "mensaje-1 "
      ],
      "id": "2c3c2247",
      "execution_count": null,
      "outputs": []
    },
    {
      "cell_type": "code",
      "metadata": {
        "id": "ce55f9b2"
      },
      "source": [
        "\"Hola\"/123 "
      ],
      "id": "ce55f9b2",
      "execution_count": null,
      "outputs": []
    },
    {
      "cell_type": "code",
      "metadata": {
        "id": "3f661c2b"
      },
      "source": [
        "mensaje*\"Hola\" "
      ],
      "id": "3f661c2b",
      "execution_count": null,
      "outputs": []
    },
    {
      "cell_type": "code",
      "metadata": {
        "id": "610dc121"
      },
      "source": [
        "\"15\"+2"
      ],
      "id": "610dc121",
      "execution_count": null,
      "outputs": []
    },
    {
      "cell_type": "markdown",
      "metadata": {
        "id": "325f524b"
      },
      "source": [
        "Es curioso que el operador `+` funcione con cadenas, aunque no haga exactamente lo que usted esperaría. "
      ],
      "id": "325f524b"
    },
    {
      "cell_type": "markdown",
      "metadata": {
        "id": "2cf7ca92"
      },
      "source": [
        "Para cadenas, el operador `+` representa la concatenación, lo que significa que se unen los dos operandos uniéndolos extremo con extremo. Por ejemplo:"
      ],
      "id": "2cf7ca92"
    },
    {
      "cell_type": "code",
      "metadata": {
        "id": "86e18a71"
      },
      "source": [
        "fruta = \"Limón\"\n",
        "liquido = \" con agua\"\n",
        "print(fruta + liquido) "
      ],
      "id": "86e18a71",
      "execution_count": null,
      "outputs": []
    },
    {
      "cell_type": "markdown",
      "metadata": {
        "id": "18c93057"
      },
      "source": [
        "La salida del programa es `Limón con agua`. "
      ],
      "id": "18c93057"
    },
    {
      "cell_type": "markdown",
      "metadata": {
        "id": "9f8a8f90"
      },
      "source": [
        "El espacio delante de ` con` es parte de la cadena, y es necesario para introducir el espacio que separa las cadenas concatenadas."
      ],
      "id": "9f8a8f90"
    },
    {
      "cell_type": "markdown",
      "metadata": {
        "id": "936095c0"
      },
      "source": [
        "El operador `*` también funciona con cadenas; lleva a cabo la repetición. "
      ],
      "id": "936095c0"
    },
    {
      "cell_type": "markdown",
      "metadata": {
        "id": "a6986fd2"
      },
      "source": [
        "Por ejemplo ’Chiste’*3 es ’ChisteChisteChiste’. "
      ],
      "id": "a6986fd2"
    },
    {
      "cell_type": "code",
      "metadata": {
        "id": "9130a442"
      },
      "source": [
        "'chiste '*3"
      ],
      "id": "9130a442",
      "execution_count": null,
      "outputs": []
    },
    {
      "cell_type": "markdown",
      "metadata": {
        "id": "8e22507e"
      },
      "source": [
        "Uno de los operandos ha de ser una cadena, el otro ha de ser un entero."
      ],
      "id": "8e22507e"
    },
    {
      "cell_type": "markdown",
      "metadata": {
        "id": "a32cfabe"
      },
      "source": [
        "Por un lado, esta interpretación de `+` y `*` cobra sentido por analogía con la suma y la multiplicación. "
      ],
      "id": "a32cfabe"
    },
    {
      "cell_type": "markdown",
      "metadata": {
        "id": "f833e28c"
      },
      "source": [
        "Igual que `4*3` es equivalente a `4+4+4`, esperamos que `'Chiste'*3` sea lo mismo que `\"Chiste\"+\"Chiste\"+\"Chiste\"`, y así es. "
      ],
      "id": "f833e28c"
    },
    {
      "cell_type": "code",
      "metadata": {
        "id": "3a17e94e"
      },
      "source": [
        "'chiste'*3  == 'chiste' + 'chiste' + 'chiste' "
      ],
      "id": "3a17e94e",
      "execution_count": null,
      "outputs": []
    },
    {
      "cell_type": "markdown",
      "metadata": {
        "id": "7ca7413b"
      },
      "source": [
        "Por otro lado, la concatenación y la repetición son de alguna manera muy diferentes de la adición y la multiplicación de enteros. "
      ],
      "id": "7ca7413b"
    },
    {
      "cell_type": "markdown",
      "metadata": {
        "id": "92bd79df"
      },
      "source": [
        "¿Puede encontrar una propiedad que tienen la suma y la multiplicación de enteros y que no tengan la concatenación y la repetición de cadenas?"
      ],
      "id": "92bd79df"
    },
    {
      "cell_type": "code",
      "metadata": {
        "id": "0ee6c304"
      },
      "source": [
        "'a'+'b' != 'b'+'a'"
      ],
      "id": "0ee6c304",
      "execution_count": null,
      "outputs": []
    },
    {
      "cell_type": "markdown",
      "metadata": {
        "id": "6a575f7c"
      },
      "source": [
        "**Conclusión**\n",
        "\n",
        "La suma de cadenas no es conmutativa. "
      ],
      "id": "6a575f7c"
    },
    {
      "cell_type": "markdown",
      "metadata": {
        "id": "228316dd"
      },
      "source": [
        "## 2.9. Composición  "
      ],
      "id": "228316dd"
    },
    {
      "cell_type": "markdown",
      "metadata": {
        "id": "44882ad3"
      },
      "source": [
        "Hasta ahora hemos examinado los elementos de un programa (variables, expresiones y sentencias) por separado, sin hablar de cómo combinarlos."
      ],
      "id": "44882ad3"
    },
    {
      "cell_type": "markdown",
      "metadata": {
        "id": "9838cb2d"
      },
      "source": [
        "Una de las características más útiles de los lenguajes de programación es su capacidad de tomar pequeños bloques de construcción y ensamblarlos. "
      ],
      "id": "9838cb2d"
    },
    {
      "cell_type": "markdown",
      "metadata": {
        "id": "dc144494"
      },
      "source": [
        "Por ejemplo, sabemos cómo sumar números y cómo imprimirlos; resulta que podemos hacer las dos cosas a un tiempo:"
      ],
      "id": "dc144494"
    },
    {
      "cell_type": "code",
      "metadata": {
        "id": "ed863a04"
      },
      "source": [
        "print(17 + 3)"
      ],
      "id": "ed863a04",
      "execution_count": null,
      "outputs": []
    },
    {
      "cell_type": "markdown",
      "metadata": {
        "id": "09f40b81"
      },
      "source": [
        "En realidad, no debemos decir “al mismo tiempo”, puesto que en realidad la suma tiene que realizarse antes de la impresión, pero la cuestión es que cualquier expresión relacionada con números, cadenas y variables puede usarse dentro de una sentencia `print()`. "
      ],
      "id": "09f40b81"
    },
    {
      "cell_type": "markdown",
      "metadata": {
        "id": "b095ef0d"
      },
      "source": [
        "Ya hemos visto un ejemplo de ello: "
      ],
      "id": "b095ef0d"
    },
    {
      "cell_type": "code",
      "metadata": {
        "id": "68c6b545"
      },
      "source": [
        "hora = 2\n",
        "minuto = 15\n",
        "print(\"Número de minutos desde la medianoche: \", hora*60+minuto)"
      ],
      "id": "68c6b545",
      "execution_count": null,
      "outputs": []
    },
    {
      "cell_type": "markdown",
      "metadata": {
        "id": "d7a610ac"
      },
      "source": [
        "Y también puede poner expresiones arbitrarias en la parte derecha de una sentencia de asignación:"
      ],
      "id": "d7a610ac"
    },
    {
      "cell_type": "code",
      "metadata": {
        "id": "aed4f157"
      },
      "source": [
        "porcentaje = (minuto * 100)/60"
      ],
      "id": "aed4f157",
      "execution_count": null,
      "outputs": []
    },
    {
      "cell_type": "code",
      "metadata": {
        "id": "7fee7f34"
      },
      "source": [
        "porcentaje "
      ],
      "id": "7fee7f34",
      "execution_count": null,
      "outputs": []
    },
    {
      "cell_type": "markdown",
      "metadata": {
        "id": "8d074ee3"
      },
      "source": [
        "Esta capacidad puede no resultar muy sorprendente, pero ya veremos otros ejemplos donde la composición hace posible expresar cálculos complejos con limpieza y brevedad."
      ],
      "id": "8d074ee3"
    },
    {
      "cell_type": "markdown",
      "metadata": {
        "id": "47e4ee02"
      },
      "source": [
        "## ATENCIÓN: "
      ],
      "id": "47e4ee02"
    },
    {
      "cell_type": "markdown",
      "metadata": {
        "id": "12a71049"
      },
      "source": [
        "Hay límites al lugar donde pueden usarse ciertas expresiones. "
      ],
      "id": "12a71049"
    },
    {
      "cell_type": "markdown",
      "metadata": {
        "id": "e8af4f4a"
      },
      "source": [
        "Por ejemplo, la parte izquierda de una sentencia de asignación tiene que ser un nombre de variable, no una exrpresión. "
      ],
      "id": "e8af4f4a"
    },
    {
      "cell_type": "markdown",
      "metadata": {
        "id": "7ede59e5"
      },
      "source": [
        "Por tanto es ilegal lo siguiente: "
      ],
      "id": "7ede59e5"
    },
    {
      "cell_type": "code",
      "metadata": {
        "id": "7cc47e28"
      },
      "source": [
        "minute+1 = hour"
      ],
      "id": "7cc47e28",
      "execution_count": null,
      "outputs": []
    },
    {
      "cell_type": "code",
      "metadata": {
        "id": "4f07d3ba"
      },
      "source": [
        "hora = minuto + 1\n",
        "hora "
      ],
      "id": "4f07d3ba",
      "execution_count": null,
      "outputs": []
    },
    {
      "cell_type": "markdown",
      "metadata": {
        "id": "5fbb17ad"
      },
      "source": [
        "## 2.10. Los comentarios"
      ],
      "id": "5fbb17ad"
    },
    {
      "cell_type": "markdown",
      "metadata": {
        "id": "a1448bf6"
      },
      "source": [
        "Conforme los programas van creciendo de tamaño y complicándose, se vuelven más complicados de leer. "
      ],
      "id": "a1448bf6"
    },
    {
      "cell_type": "markdown",
      "metadata": {
        "id": "4da96989"
      },
      "source": [
        "Los lenguajes formales son densos y con frecuencia es difícil observar un trozo de código y averiguar lo que hace, o por qué lo hace."
      ],
      "id": "4da96989"
    },
    {
      "cell_type": "markdown",
      "metadata": {
        "id": "1fa617b2"
      },
      "source": [
        "Por ello es una buena idea añadir notas a su programa que expliquen, en un lenguaje natural, qué hace el programa. "
      ],
      "id": "1fa617b2"
    },
    {
      "cell_type": "markdown",
      "metadata": {
        "id": "0136f58d"
      },
      "source": [
        "Estas notas se llaman comentarios y se marcan con el símbolo `#`:"
      ],
      "id": "0136f58d"
    },
    {
      "cell_type": "code",
      "metadata": {
        "id": "92ee5e71"
      },
      "source": [
        "# calcula el porcentaje de la hora que ha pasado ya\n",
        "porcentaje = (minuto * 100) / 60\n",
        "porcentaje "
      ],
      "id": "92ee5e71",
      "execution_count": null,
      "outputs": []
    },
    {
      "cell_type": "markdown",
      "metadata": {
        "id": "289f4f68"
      },
      "source": [
        "En este caso, el comentario aparece en una línea propia. "
      ],
      "id": "289f4f68"
    },
    {
      "cell_type": "markdown",
      "metadata": {
        "id": "4de824ba"
      },
      "source": [
        "También puede poner comentarios al final de otras líneas:"
      ],
      "id": "4de824ba"
    },
    {
      "cell_type": "code",
      "metadata": {
        "id": "9490bd45"
      },
      "source": [
        "porcentaje = (minuto * 100)/60    # ojo: división de enteros"
      ],
      "id": "9490bd45",
      "execution_count": null,
      "outputs": []
    },
    {
      "cell_type": "markdown",
      "metadata": {
        "id": "7e11c35a"
      },
      "source": [
        "Todo lo que va del `#` al final de la línea se ignora (no tiene efecto sobre el programa). "
      ],
      "id": "7e11c35a"
    },
    {
      "cell_type": "markdown",
      "metadata": {
        "id": "dfa97094"
      },
      "source": [
        "El mensaje está destinado al programador, o a futuros programadores que podrían tener que usar el código. "
      ],
      "id": "dfa97094"
    },
    {
      "cell_type": "markdown",
      "metadata": {
        "id": "2056e531"
      },
      "source": [
        "## 2.11. Glosario"
      ],
      "id": "2056e531"
    },
    {
      "cell_type": "markdown",
      "metadata": {
        "id": "299f0236"
      },
      "source": [
        "* **valor**: un número o cadena (o cualquier otra cosa que se especifique posteriormente) que puede almacenarse en una \n",
        "  variable o calcularse en una expresión"
      ],
      "id": "299f0236"
    },
    {
      "cell_type": "markdown",
      "metadata": {
        "id": "609b2175"
      },
      "source": [
        "* **tipo**: un conjunto de valores. El tipo de un valor determina cómo puede usarse en las expresiones. Hasta ahora, los tipos que hemos visto son enteros (tipo `int`), números de coma flotante (tipo `float`) y cadenas (tipo `string`)."
      ],
      "id": "609b2175"
    },
    {
      "cell_type": "markdown",
      "metadata": {
        "id": "f64415cb"
      },
      "source": [
        "* **coma flotante**: un formato para representar números con decimales."
      ],
      "id": "f64415cb"
    },
    {
      "cell_type": "markdown",
      "metadata": {
        "id": "ec215ae1"
      },
      "source": [
        "* **variable:** nombre que hace referencia a un valor."
      ],
      "id": "ec215ae1"
    },
    {
      "cell_type": "markdown",
      "metadata": {
        "id": "6fc94d79"
      },
      "source": [
        "* **sentencia:** es una porción de código que representa una orden o acción. Hasta ahora, las sentencias que hemos vistos \n",
        "  son las asignaciones y las sentencias `print()`."
      ],
      "id": "6fc94d79"
    },
    {
      "cell_type": "markdown",
      "metadata": {
        "id": "fae45cde"
      },
      "source": [
        "* **asignación:** sentencia que asigna un valor a una variable (`=`)."
      ],
      "id": "fae45cde"
    },
    {
      "cell_type": "markdown",
      "metadata": {
        "id": "72ef506a"
      },
      "source": [
        "* **diagrama de estado:** representación gráfica de un conjunto de variables y de los valores a los que se refiere."
      ],
      "id": "72ef506a"
    },
    {
      "cell_type": "markdown",
      "metadata": {
        "id": "10df3b94"
      },
      "source": [
        "* **palabra reservada:** es una palabra clave que usa el compilador para analizar sintácticamente los programas. No pueden\n",
        "  usarse palabras reservadas, por ejemplo `if`, `def` y `while` como nombres de variables."
      ],
      "id": "10df3b94"
    },
    {
      "cell_type": "markdown",
      "metadata": {
        "id": "f0fb38df"
      },
      "source": [
        "* **operador:** un símbolo especial que representa un cálculo sencillo, como la suma, la multiplicación o la concatenación de\n",
        "  cadenas."
      ],
      "id": "f0fb38df"
    },
    {
      "cell_type": "markdown",
      "metadata": {
        "id": "03494b5b"
      },
      "source": [
        "* **operando:** uno de los valores sobre los que actúa un operador."
      ],
      "id": "03494b5b"
    },
    {
      "cell_type": "markdown",
      "metadata": {
        "id": "58921f72"
      },
      "source": [
        "* **expresión:** una combinación de variables, operadores y valores. Dicha combinación representa un único valor como \n",
        "  resultado."
      ],
      "id": "58921f72"
    },
    {
      "cell_type": "markdown",
      "metadata": {
        "id": "cba46e70"
      },
      "source": [
        "* **evaluar una expresión:** simplifica ejecutar las operaciones para entregar un valor único. "
      ],
      "id": "cba46e70"
    },
    {
      "cell_type": "markdown",
      "metadata": {
        "id": "075fe808"
      },
      "source": [
        "* **división de enteros:** es una operación que divide un entero entre otro y devuelve un entero. La división de enteros \n",
        "  devuelve sólo el número entero de veces que el numerador es divisible por en denominador, y descarta el resto. (`//`)"
      ],
      "id": "075fe808"
    },
    {
      "cell_type": "code",
      "metadata": {
        "id": "88071e9f"
      },
      "source": [
        "11//2"
      ],
      "id": "88071e9f",
      "execution_count": null,
      "outputs": []
    },
    {
      "cell_type": "markdown",
      "metadata": {
        "id": "da4df054"
      },
      "source": [
        "* **reglas de precedencia:** la serie de reglas que especifican el orden en el que las expresiones con múltiples operadores \n",
        "  han de evaluarse."
      ],
      "id": "da4df054"
    },
    {
      "cell_type": "markdown",
      "metadata": {
        "id": "2ee7e805"
      },
      "source": [
        "* **concatenar:** unir dos operandos extremo con extremo."
      ],
      "id": "2ee7e805"
    },
    {
      "cell_type": "markdown",
      "metadata": {
        "id": "1ceddb0a"
      },
      "source": [
        "* **composición:** la capacidad de combinar expresiones sencillas y sentencias hasta crear sentencias y expresiones compuestas,\n",
        "  con el fin de representar cálculos complejos de forma concisa."
      ],
      "id": "1ceddb0a"
    },
    {
      "cell_type": "markdown",
      "metadata": {
        "id": "480df318"
      },
      "source": [
        "* **comentario**: un segmento de información en un programa, destinado a otros programadores (o cualquiera que lea el código\n",
        "  fuente) y que no tiene efecto sobre la ejecución del programa"
      ],
      "id": "480df318"
    },
    {
      "cell_type": "markdown",
      "metadata": {
        "id": "b795d9a2"
      },
      "source": [
        "# Capítulo 3\n",
        "## Funciones\n",
        "### 3.1. Llamadas a funciones"
      ],
      "id": "b795d9a2"
    },
    {
      "cell_type": "markdown",
      "metadata": {
        "id": "2eec9539"
      },
      "source": [
        "## [Video de apoyo a la lectura sobre llamada a funciones](https://www.youtube.com/watch?v=oyKHi_nFisM) "
      ],
      "id": "2eec9539"
    },
    {
      "cell_type": "markdown",
      "metadata": {
        "id": "5d9851f6"
      },
      "source": [
        "Ya hemos visto un ejemplo de una llamada a una función:"
      ],
      "id": "5d9851f6"
    },
    {
      "cell_type": "code",
      "metadata": {
        "id": "4a050549",
        "outputId": "6e2e958c-1220-4488-bf5f-b27938fbe65d"
      },
      "source": [
        "type(32.0)"
      ],
      "id": "4a050549",
      "execution_count": null,
      "outputs": [
        {
          "data": {
            "text/plain": [
              "float"
            ]
          },
          "execution_count": 3,
          "metadata": {},
          "output_type": "execute_result"
        }
      ]
    },
    {
      "cell_type": "markdown",
      "metadata": {
        "id": "ed071b43"
      },
      "source": [
        "El nombre de la función es `type()`, y muestra el tipo de un **valor** o de una **variable**."
      ],
      "id": "ed071b43"
    },
    {
      "cell_type": "markdown",
      "metadata": {
        "id": "f0852a06"
      },
      "source": [
        "El valor o variable, llamado el argumento de la función, ha de estar encerrado entre paréntesis. "
      ],
      "id": "f0852a06"
    },
    {
      "cell_type": "markdown",
      "metadata": {
        "id": "f63f9cb0"
      },
      "source": [
        "Es habitual decir que una función “toma” un argumento y “devuelve” un resultado. "
      ],
      "id": "f63f9cb0"
    },
    {
      "cell_type": "markdown",
      "metadata": {
        "id": "2d908625"
      },
      "source": [
        "El resultado se llama **valor de retorno**."
      ],
      "id": "2d908625"
    },
    {
      "cell_type": "markdown",
      "metadata": {
        "id": "1b11b231"
      },
      "source": [
        "En lugar de imprimir el valor de retorno, podemos asignárselo a una variable."
      ],
      "id": "1b11b231"
    },
    {
      "cell_type": "code",
      "metadata": {
        "id": "c89fca4f",
        "outputId": "ba2b1374-5a34-40ae-9dfd-dfcd4614c4db"
      },
      "source": [
        "x = type(\"4\")\n",
        "print(x)"
      ],
      "id": "c89fca4f",
      "execution_count": null,
      "outputs": [
        {
          "name": "stdout",
          "output_type": "stream",
          "text": [
            "<class 'str'>\n"
          ]
        }
      ]
    },
    {
      "cell_type": "markdown",
      "metadata": {
        "id": "2f2e48d8"
      },
      "source": [
        "Otro ejemplo más: la función `id()` toma como argumento un valor o una variable y devuelve un entero que actúa como identificador único de ese valor."
      ],
      "id": "2f2e48d8"
    },
    {
      "cell_type": "code",
      "metadata": {
        "id": "8d5212f2",
        "outputId": "3d812df5-4b7c-4f8b-e3db-bc98dc8cd726"
      },
      "source": [
        "id(3)"
      ],
      "id": "8d5212f2",
      "execution_count": null,
      "outputs": [
        {
          "data": {
            "text/plain": [
              "140734609762160"
            ]
          },
          "execution_count": 5,
          "metadata": {},
          "output_type": "execute_result"
        }
      ]
    },
    {
      "cell_type": "code",
      "metadata": {
        "id": "d8938f3a",
        "outputId": "3e95ab83-0737-492e-bf2a-291f7e203b8a"
      },
      "source": [
        "yasmi = 702\n",
        "id(yasmi) "
      ],
      "id": "d8938f3a",
      "execution_count": null,
      "outputs": [
        {
          "data": {
            "text/plain": [
              "2566634799792"
            ]
          },
          "execution_count": 6,
          "metadata": {},
          "output_type": "execute_result"
        }
      ]
    },
    {
      "cell_type": "markdown",
      "metadata": {
        "id": "3cd96e6c"
      },
      "source": [
        "Cada valor tiene un `id`, que es un valor único relacionado con el lugar dónde se almacena en la memoria del computador. "
      ],
      "id": "3cd96e6c"
    },
    {
      "cell_type": "markdown",
      "metadata": {
        "id": "a1c82811"
      },
      "source": [
        "El `id` de una variable es el `id` del valor al que hace referencia"
      ],
      "id": "a1c82811"
    },
    {
      "cell_type": "markdown",
      "metadata": {
        "id": "d7439207"
      },
      "source": [
        "## 3.2. Conversión de tipos  "
      ],
      "id": "d7439207"
    },
    {
      "cell_type": "markdown",
      "metadata": {
        "id": "45ab51c1"
      },
      "source": [
        "Python proporciona una colección de funciones internas que convierten valores de un tipo a otro. "
      ],
      "id": "45ab51c1"
    },
    {
      "cell_type": "markdown",
      "metadata": {
        "id": "3eb68358"
      },
      "source": [
        "La función `int()` toma un valor y lo convierte a un entero, si es posible, o da un error si no es posible."
      ],
      "id": "3eb68358"
    },
    {
      "cell_type": "code",
      "metadata": {
        "id": "48a00c85",
        "outputId": "b0d3b455-e992-42c6-a4ca-69054aba0f8a"
      },
      "source": [
        "int(\"32\")"
      ],
      "id": "48a00c85",
      "execution_count": null,
      "outputs": [
        {
          "data": {
            "text/plain": [
              "32"
            ]
          },
          "execution_count": 7,
          "metadata": {},
          "output_type": "execute_result"
        }
      ]
    },
    {
      "cell_type": "code",
      "metadata": {
        "id": "f8dda642",
        "outputId": "14adf839-660c-4cd3-8e9c-ae5f8b0b2f63"
      },
      "source": [
        "int(\"Hola\")"
      ],
      "id": "f8dda642",
      "execution_count": null,
      "outputs": [
        {
          "ename": "ValueError",
          "evalue": "invalid literal for int() with base 10: 'Hola'",
          "output_type": "error",
          "traceback": [
            "\u001b[1;31m---------------------------------------------------------------------------\u001b[0m",
            "\u001b[1;31mValueError\u001b[0m                                Traceback (most recent call last)",
            "\u001b[1;32m<ipython-input-8-0cb08ffafe78>\u001b[0m in \u001b[0;36m<module>\u001b[1;34m\u001b[0m\n\u001b[1;32m----> 1\u001b[1;33m \u001b[0mint\u001b[0m\u001b[1;33m(\u001b[0m\u001b[1;34m\"Hola\"\u001b[0m\u001b[1;33m)\u001b[0m\u001b[1;33m\u001b[0m\u001b[1;33m\u001b[0m\u001b[0m\n\u001b[0m",
            "\u001b[1;31mValueError\u001b[0m: invalid literal for int() with base 10: 'Hola'"
          ]
        }
      ]
    },
    {
      "cell_type": "markdown",
      "metadata": {
        "id": "2eb50c1a"
      },
      "source": [
        "`int()` también convierte valores de coma flotante a enteros, pero recuerde que siempre redondea hacia abajo:"
      ],
      "id": "2eb50c1a"
    },
    {
      "cell_type": "code",
      "metadata": {
        "id": "430322ec",
        "outputId": "62f5bffc-3667-44eb-d1ba-e49621730188"
      },
      "source": [
        "int(3.99999)"
      ],
      "id": "430322ec",
      "execution_count": null,
      "outputs": [
        {
          "data": {
            "text/plain": [
              "3"
            ]
          },
          "execution_count": 9,
          "metadata": {},
          "output_type": "execute_result"
        }
      ]
    },
    {
      "cell_type": "markdown",
      "metadata": {
        "id": "cb6af77e"
      },
      "source": [
        "La función `float()` que convierte enteros y cadenas en números en coma flotante:"
      ],
      "id": "cb6af77e"
    },
    {
      "cell_type": "code",
      "metadata": {
        "id": "a21d6cea",
        "outputId": "3697e1eb-4692-4a83-92c6-1630500d8883"
      },
      "source": [
        "float(32)"
      ],
      "id": "a21d6cea",
      "execution_count": null,
      "outputs": [
        {
          "data": {
            "text/plain": [
              "32.0"
            ]
          },
          "execution_count": 10,
          "metadata": {},
          "output_type": "execute_result"
        }
      ]
    },
    {
      "cell_type": "code",
      "metadata": {
        "id": "22f268df",
        "outputId": "184e82e4-797f-440d-a683-3788e2fb9d91"
      },
      "source": [
        "float(\"3.14159\")"
      ],
      "id": "22f268df",
      "execution_count": null,
      "outputs": [
        {
          "data": {
            "text/plain": [
              "3.14159"
            ]
          },
          "execution_count": 11,
          "metadata": {},
          "output_type": "execute_result"
        }
      ]
    },
    {
      "cell_type": "code",
      "metadata": {
        "id": "ba2b5bdc",
        "outputId": "81968324-98b7-499a-e3c6-6fbe95e5b052"
      },
      "source": [
        "float('') "
      ],
      "id": "ba2b5bdc",
      "execution_count": null,
      "outputs": [
        {
          "ename": "ValueError",
          "evalue": "could not convert string to float: ''",
          "output_type": "error",
          "traceback": [
            "\u001b[1;31m---------------------------------------------------------------------------\u001b[0m",
            "\u001b[1;31mValueError\u001b[0m                                Traceback (most recent call last)",
            "\u001b[1;32m<ipython-input-12-e4c877e6ac3f>\u001b[0m in \u001b[0;36m<module>\u001b[1;34m\u001b[0m\n\u001b[1;32m----> 1\u001b[1;33m \u001b[0mfloat\u001b[0m\u001b[1;33m(\u001b[0m\u001b[1;34m''\u001b[0m\u001b[1;33m)\u001b[0m\u001b[1;33m\u001b[0m\u001b[1;33m\u001b[0m\u001b[0m\n\u001b[0m",
            "\u001b[1;31mValueError\u001b[0m: could not convert string to float: ''"
          ]
        }
      ]
    },
    {
      "cell_type": "markdown",
      "metadata": {
        "id": "136a62e0"
      },
      "source": [
        "Finalmente, está la función `str()`, que convierte a tipo string:"
      ],
      "id": "136a62e0"
    },
    {
      "cell_type": "code",
      "metadata": {
        "id": "ebae0bbc",
        "outputId": "4c73e060-f32b-41fb-e5ba-ad10dc6d9bb0"
      },
      "source": [
        "str(32)"
      ],
      "id": "ebae0bbc",
      "execution_count": null,
      "outputs": [
        {
          "data": {
            "text/plain": [
              "'32'"
            ]
          },
          "execution_count": 13,
          "metadata": {},
          "output_type": "execute_result"
        }
      ]
    },
    {
      "cell_type": "code",
      "metadata": {
        "id": "9f97e8d3",
        "outputId": "2b56de05-1d29-44aa-8c1c-e314b848a5db"
      },
      "source": [
        "str(3.14149)"
      ],
      "id": "9f97e8d3",
      "execution_count": null,
      "outputs": [
        {
          "data": {
            "text/plain": [
              "'3.14149'"
            ]
          },
          "execution_count": 14,
          "metadata": {},
          "output_type": "execute_result"
        }
      ]
    },
    {
      "cell_type": "code",
      "metadata": {
        "id": "338fea22",
        "outputId": "791e9bce-c9cc-4f95-eb01-353b09ad7d44"
      },
      "source": [
        "str(2+4)"
      ],
      "id": "338fea22",
      "execution_count": null,
      "outputs": [
        {
          "data": {
            "text/plain": [
              "'6'"
            ]
          },
          "execution_count": 17,
          "metadata": {},
          "output_type": "execute_result"
        }
      ]
    },
    {
      "cell_type": "markdown",
      "metadata": {
        "id": "af67a651"
      },
      "source": [
        "Pudiera parecer extraño que Python distinga entre el valor entero 1 y el valor de coma flotante 1.0. "
      ],
      "id": "af67a651"
    },
    {
      "cell_type": "markdown",
      "metadata": {
        "id": "808e0cfc"
      },
      "source": [
        "Tal vez representen el mismo número, pero pertenecen a tipos distintos. "
      ],
      "id": "808e0cfc"
    },
    {
      "cell_type": "markdown",
      "metadata": {
        "id": "227bd4ad"
      },
      "source": [
        "El motivo es que se representan de forma distinta dentro del computador."
      ],
      "id": "227bd4ad"
    },
    {
      "cell_type": "markdown",
      "metadata": {
        "id": "24840a9d"
      },
      "source": [
        "## 3.3. Coerción de tipos"
      ],
      "id": "24840a9d"
    },
    {
      "cell_type": "code",
      "metadata": {
        "id": "c5720e88",
        "outputId": "d72c73dd-2e4f-4b26-b30c-c1b897cb2f72"
      },
      "source": [
        "minuto = 59\n",
        "minuto/60.0"
      ],
      "id": "c5720e88",
      "execution_count": null,
      "outputs": [
        {
          "data": {
            "text/plain": [
              "0.9833333333333333"
            ]
          },
          "execution_count": 19,
          "metadata": {},
          "output_type": "execute_result"
        }
      ]
    },
    {
      "cell_type": "markdown",
      "metadata": {
        "id": "93518bb6"
      },
      "source": [
        "O bien podemos sacar provecho de las reglas de la conversión automática de tipos, llamada coerción de tipos. "
      ],
      "id": "93518bb6"
    },
    {
      "cell_type": "markdown",
      "metadata": {
        "id": "3e06d52a"
      },
      "source": [
        "Para los operadores matemáticos, si uno de los operandos matemáticos es tipo `float`, el otro se convierte automáticamente\n",
        "en `float`."
      ],
      "id": "3e06d52a"
    },
    {
      "cell_type": "markdown",
      "metadata": {
        "id": "f0cc24a3"
      },
      "source": [
        "Al usar un denomidador que es `float`, obligamos a Python a hacer división de coma flotante."
      ],
      "id": "f0cc24a3"
    },
    {
      "cell_type": "markdown",
      "metadata": {
        "id": "2e280b43"
      },
      "source": [
        "## 3.4. Funciones matemáticas"
      ],
      "id": "2e280b43"
    },
    {
      "cell_type": "markdown",
      "metadata": {
        "id": "bbb46df7"
      },
      "source": [
        "Es posible que ya haya visto usted en matemáticas funciones como `sin` (seno) y `log`, y que haya aprendido a evaluar expresiones como `sin(pi/2)` y `log(1/x)`."
      ],
      "id": "bbb46df7"
    },
    {
      "cell_type": "markdown",
      "metadata": {
        "id": "5106197a"
      },
      "source": [
        "Primero evalúa la expresión entre paréntesis, (el argumento). "
      ],
      "id": "5106197a"
    },
    {
      "cell_type": "markdown",
      "metadata": {
        "id": "dd819ced"
      },
      "source": [
        "Por ejemplo, `pi/2` es aproximadamente $1.571$, y `1/x` es $0.1$ (si $x$ es igual a $10.0$)."
      ],
      "id": "dd819ced"
    },
    {
      "cell_type": "markdown",
      "metadata": {
        "id": "829c2f18"
      },
      "source": [
        "Luego evalúa la función en sí misma, bien mirándola en una tabla, bien llevando a cabo diversos cálculos. "
      ],
      "id": "829c2f18"
    },
    {
      "cell_type": "markdown",
      "metadata": {
        "id": "2ec3abc6"
      },
      "source": [
        "El sin (seno) de 1.571 es 1, y el log de 0.1 es -1 (suponiendo que log indique el logaritmo de base 10)."
      ],
      "id": "2ec3abc6"
    },
    {
      "cell_type": "code",
      "metadata": {
        "id": "48a0814c"
      },
      "source": [
        "import math as m"
      ],
      "id": "48a0814c",
      "execution_count": null,
      "outputs": []
    },
    {
      "cell_type": "code",
      "metadata": {
        "id": "ddcd2bac",
        "outputId": "703aff98-692f-45a3-bb9a-f4df3a17197f"
      },
      "source": [
        "m.sin(m.pi/2)"
      ],
      "id": "ddcd2bac",
      "execution_count": null,
      "outputs": [
        {
          "data": {
            "text/plain": [
              "1.0"
            ]
          },
          "execution_count": 22,
          "metadata": {},
          "output_type": "execute_result"
        }
      ]
    },
    {
      "cell_type": "code",
      "metadata": {
        "id": "8b514edc",
        "outputId": "6fa50331-4e65-4990-dc2f-cc5dc3175fca"
      },
      "source": [
        "m.log10(1/10) "
      ],
      "id": "8b514edc",
      "execution_count": null,
      "outputs": [
        {
          "data": {
            "text/plain": [
              "-1.0"
            ]
          },
          "execution_count": 25,
          "metadata": {},
          "output_type": "execute_result"
        }
      ]
    },
    {
      "cell_type": "markdown",
      "metadata": {
        "id": "3234d24c"
      },
      "source": [
        "Este proceso puede aplicarse repetidamente para evaluar expresiones más complicadas como `log(1/sin(pi/2))`. "
      ],
      "id": "3234d24c"
    },
    {
      "cell_type": "code",
      "metadata": {
        "id": "4a5dc97d",
        "outputId": "d4d11231-8a14-48fb-e200-6a8b1f9b7654"
      },
      "source": [
        "m.log10(1/m.sin(m.pi/2))"
      ],
      "id": "4a5dc97d",
      "execution_count": null,
      "outputs": [
        {
          "data": {
            "text/plain": [
              "0.0"
            ]
          },
          "execution_count": 26,
          "metadata": {},
          "output_type": "execute_result"
        }
      ]
    },
    {
      "cell_type": "code",
      "metadata": {
        "id": "d095f749",
        "outputId": "d21059c0-51b9-411f-fd36-468f01a82212"
      },
      "source": [
        "m.pi"
      ],
      "id": "d095f749",
      "execution_count": null,
      "outputs": [
        {
          "data": {
            "text/plain": [
              "3.141592653589793"
            ]
          },
          "execution_count": 27,
          "metadata": {},
          "output_type": "execute_result"
        }
      ]
    },
    {
      "cell_type": "markdown",
      "metadata": {
        "id": "d63dd80a"
      },
      "source": [
        "Primero evaluamos el argumento de la función más interna, luego se evaúa la función, y así sucesivamente."
      ],
      "id": "d63dd80a"
    },
    {
      "cell_type": "markdown",
      "metadata": {
        "id": "a24496da"
      },
      "source": [
        "Python dispone de un módulo matemático que proporciona la mayoría de las funciones matemáticas habituales. "
      ],
      "id": "a24496da"
    },
    {
      "cell_type": "markdown",
      "metadata": {
        "id": "29ab5e1b"
      },
      "source": [
        "Un módulo es un archivo que contiene una colección de funciones agrupadas juntas."
      ],
      "id": "29ab5e1b"
    },
    {
      "cell_type": "markdown",
      "metadata": {
        "id": "ccfd1506"
      },
      "source": [
        "Antes de poder usar las funciones de un módulo, tenemos que importarlo:"
      ],
      "id": "ccfd1506"
    },
    {
      "cell_type": "code",
      "metadata": {
        "id": "9eccc3fc"
      },
      "source": [
        "import math "
      ],
      "id": "9eccc3fc",
      "execution_count": null,
      "outputs": []
    },
    {
      "cell_type": "markdown",
      "metadata": {
        "id": "c4b1542f"
      },
      "source": [
        "Para llamar a una de las funciones, tenemos que especificar el nombre del módulo y el nombre de la función, separados por un punto. "
      ],
      "id": "c4b1542f"
    },
    {
      "cell_type": "markdown",
      "metadata": {
        "id": "53deb965"
      },
      "source": [
        "A esto se le llama **notación de punto:**"
      ],
      "id": "53deb965"
    },
    {
      "cell_type": "code",
      "metadata": {
        "id": "122e5585",
        "outputId": "70162529-e062-40c6-caac-de773aadc209"
      },
      "source": [
        "a = math.log10(17.0)\n",
        "angulo = 1.5\n",
        "altura = math.sin(angulo)\n",
        "altura "
      ],
      "id": "122e5585",
      "execution_count": null,
      "outputs": [
        {
          "data": {
            "text/plain": [
              "0.9974949866040544"
            ]
          },
          "execution_count": 32,
          "metadata": {},
          "output_type": "execute_result"
        }
      ]
    },
    {
      "cell_type": "markdown",
      "metadata": {
        "id": "363ecc86"
      },
      "source": [
        "La primera sentencia da a `a` el valor del logaritmo de `17`, en base `10`."
      ],
      "id": "363ecc86"
    },
    {
      "cell_type": "markdown",
      "metadata": {
        "id": "331c0f6c"
      },
      "source": [
        "Hay también una función llamada `log` que toma logaritmos en base `e`."
      ],
      "id": "331c0f6c"
    },
    {
      "cell_type": "code",
      "metadata": {
        "id": "2ffa535e",
        "outputId": "e3781e5f-9d4a-4f64-f011-c951af4f426b"
      },
      "source": [
        "math.e "
      ],
      "id": "2ffa535e",
      "execution_count": null,
      "outputs": [
        {
          "data": {
            "text/plain": [
              "2.718281828459045"
            ]
          },
          "execution_count": 33,
          "metadata": {},
          "output_type": "execute_result"
        }
      ]
    },
    {
      "cell_type": "code",
      "metadata": {
        "id": "d88212bd",
        "outputId": "bb322879-9b5f-415b-8400-a72a59ce7eb9"
      },
      "source": [
        "math.log(math.e)"
      ],
      "id": "d88212bd",
      "execution_count": null,
      "outputs": [
        {
          "data": {
            "text/plain": [
              "1.0"
            ]
          },
          "execution_count": 35,
          "metadata": {},
          "output_type": "execute_result"
        }
      ]
    },
    {
      "cell_type": "markdown",
      "metadata": {
        "id": "2bf5719c"
      },
      "source": [
        "La tercera sentencia halla el seno del valor de la variable `angulo`. "
      ],
      "id": "2bf5719c"
    },
    {
      "cell_type": "markdown",
      "metadata": {
        "id": "536373cd"
      },
      "source": [
        "`sin` y las otras funciones trigonométricas (`cos`, `tan`, etc.) toman sus argumentos en radianes."
      ],
      "id": "536373cd"
    },
    {
      "cell_type": "markdown",
      "metadata": {
        "id": "e35790c9"
      },
      "source": [
        "Para convertir de grados a radianes, puede dividir por 360 y multiplicar por `2*pi`. "
      ],
      "id": "e35790c9"
    },
    {
      "cell_type": "markdown",
      "metadata": {
        "id": "31e01f3a"
      },
      "source": [
        "Por ejemplo, para hallar el seno de 45 grados, calcule primero el ángulo en radianes y luego halle el seno:"
      ],
      "id": "31e01f3a"
    },
    {
      "cell_type": "code",
      "metadata": {
        "id": "5cbf31a9",
        "outputId": "9909d9a7-6c0f-406a-a46b-69f5bfd072cb"
      },
      "source": [
        "grados = 45\n",
        "angulo = grados * 2 * math.pi / 360.0\n",
        "math.sin(angulo)"
      ],
      "id": "5cbf31a9",
      "execution_count": null,
      "outputs": [
        {
          "data": {
            "text/plain": [
              "0.7071067811865476"
            ]
          },
          "execution_count": 36,
          "metadata": {},
          "output_type": "execute_result"
        }
      ]
    },
    {
      "cell_type": "markdown",
      "metadata": {
        "id": "aa1f8090"
      },
      "source": [
        "La constante `pi` también es parte del módulo `math`. "
      ],
      "id": "aa1f8090"
    },
    {
      "cell_type": "markdown",
      "metadata": {
        "id": "8909545c"
      },
      "source": [
        "Si se sabe la geometría, puede verificar el resultado comparándolo con el de la raíz cuadrada de 2, dividida entre 2."
      ],
      "id": "8909545c"
    },
    {
      "cell_type": "code",
      "metadata": {
        "id": "b935860e",
        "outputId": "1b983137-6ca0-4098-c4cc-55e2ff24c59f"
      },
      "source": [
        "math.sqrt(2)/2.0\n"
      ],
      "id": "b935860e",
      "execution_count": null,
      "outputs": [
        {
          "data": {
            "text/plain": [
              "0.7071067811865476"
            ]
          },
          "execution_count": 37,
          "metadata": {},
          "output_type": "execute_result"
        }
      ]
    },
    {
      "cell_type": "markdown",
      "metadata": {
        "id": "2f97e26d"
      },
      "source": [
        "## 3.5. Composición"
      ],
      "id": "2f97e26d"
    },
    {
      "cell_type": "markdown",
      "metadata": {
        "id": "bdeb9a01"
      },
      "source": [
        "### [Video de apoyo a la lectura de este cuaderno]()  "
      ],
      "id": "bdeb9a01"
    },
    {
      "cell_type": "markdown",
      "metadata": {
        "id": "cae60734"
      },
      "source": [
        "Igual que con las funciones matemáticas, las funciones de Python se pueden componer; eso quiere decir que se usa una expresión como parte de otra. "
      ],
      "id": "cae60734"
    },
    {
      "cell_type": "markdown",
      "metadata": {
        "id": "3bf1b73a"
      },
      "source": [
        "Por ejemplo, puede usar cualquier expresión como argumento de una función:"
      ],
      "id": "3bf1b73a"
    },
    {
      "cell_type": "code",
      "metadata": {
        "id": "d9757b1d"
      },
      "source": [
        "angulo = math.pi/4"
      ],
      "id": "d9757b1d",
      "execution_count": null,
      "outputs": []
    },
    {
      "cell_type": "code",
      "metadata": {
        "id": "dc7ad278",
        "outputId": "61cf9ecc-9ac1-4c99-dea3-55ac77960792"
      },
      "source": [
        "x = math.cos(angulo + math.pi/2)\n",
        "x "
      ],
      "id": "dc7ad278",
      "execution_count": null,
      "outputs": [
        {
          "data": {
            "text/plain": [
              "-0.7071067811865475"
            ]
          },
          "execution_count": 41,
          "metadata": {},
          "output_type": "execute_result"
        }
      ]
    },
    {
      "cell_type": "markdown",
      "metadata": {
        "id": "ec00c80c"
      },
      "source": [
        "Esta sentencia toma el valor de `pi`, lo divide entre dos y le añade el resultado al valor de `angulo`. "
      ],
      "id": "ec00c80c"
    },
    {
      "cell_type": "markdown",
      "metadata": {
        "id": "7fed34ec"
      },
      "source": [
        "La suma se pasa luego como argumento a la función `cos()`."
      ],
      "id": "7fed34ec"
    },
    {
      "cell_type": "markdown",
      "metadata": {
        "id": "59d3b287"
      },
      "source": [
        "También puede tomar el resultado de una función y pasárselo como argumento a otra:"
      ],
      "id": "59d3b287"
    },
    {
      "cell_type": "code",
      "metadata": {
        "id": "4763eb6f"
      },
      "source": [
        "x = math.exp(math.log(10.0))"
      ],
      "id": "4763eb6f",
      "execution_count": null,
      "outputs": []
    },
    {
      "cell_type": "markdown",
      "metadata": {
        "id": "816ce356"
      },
      "source": [
        "Esta sentencia encuentra el logaritmo en base `e` de `10` y luego eleva `e` a ese exponente. "
      ],
      "id": "816ce356"
    },
    {
      "cell_type": "markdown",
      "metadata": {
        "id": "3da98894"
      },
      "source": [
        "El resultado queda asignado a `x`"
      ],
      "id": "3da98894"
    },
    {
      "cell_type": "markdown",
      "metadata": {
        "id": "685f96b5"
      },
      "source": [
        "## 3.6. Añadir funciones nuevas"
      ],
      "id": "685f96b5"
    },
    {
      "cell_type": "markdown",
      "metadata": {
        "id": "8a1284db"
      },
      "source": [
        "Hasta ahora sólo hemos usado las funciones que vienen incluidas con Python, pero también es posible añadir nuevas funciones. "
      ],
      "id": "8a1284db"
    },
    {
      "cell_type": "markdown",
      "metadata": {
        "id": "dd056b6a"
      },
      "source": [
        "La creación de nuevas funciones para resolver sus problemas particulares es una de las cosas más utiles de los lenguajes de programación de propósito general."
      ],
      "id": "dd056b6a"
    },
    {
      "cell_type": "markdown",
      "metadata": {
        "id": "2d9dc4c1"
      },
      "source": [
        "En contextos de programaci´on, funci´on es una secuencia de instrucciones con nombre, que lleva a cabo la operaci´on deseada. "
      ],
      "id": "2d9dc4c1"
    },
    {
      "cell_type": "markdown",
      "metadata": {
        "id": "c19b66a6"
      },
      "source": [
        "Esta operación se especifica en una definición de función. "
      ],
      "id": "c19b66a6"
    },
    {
      "cell_type": "markdown",
      "metadata": {
        "id": "f463fc28"
      },
      "source": [
        "Las funciones que hemos usado hasta ahora las han definido por nosotros, y esas definiciones están ocultas. "
      ],
      "id": "f463fc28"
    },
    {
      "cell_type": "markdown",
      "metadata": {
        "id": "72257df3"
      },
      "source": [
        "Eso es bueno, ya que nos permite usar funciones sin preocuparnos sobre los detalles de sus definiciones."
      ],
      "id": "72257df3"
    },
    {
      "cell_type": "markdown",
      "metadata": {
        "id": "7f58f314"
      },
      "source": [
        "La sintaxis de la definición de una función es:\n",
        "\n",
        "```python\n",
        "def NOMBRE( LISTA DE PARAMETROS ):\n",
        "    SENTENCIAS\n",
        "```"
      ],
      "id": "7f58f314"
    },
    {
      "cell_type": "markdown",
      "metadata": {
        "id": "756a7b98"
      },
      "source": [
        "Puede inventarse el nombre que desee para su función, con la excepción de que no puede usar las palabras reservadas de Python. "
      ],
      "id": "756a7b98"
    },
    {
      "cell_type": "markdown",
      "metadata": {
        "id": "0ee10c54"
      },
      "source": [
        "La lista de parámetros especifica qué información, en caso de haberla, ha de proporcionar para usar la función nueva."
      ],
      "id": "0ee10c54"
    },
    {
      "cell_type": "markdown",
      "metadata": {
        "id": "1aa03d60"
      },
      "source": [
        "Puede haber cualquier número de sentencias dentro de la función, pero tienen que estar indentadas desde el margen izquierdo. "
      ],
      "id": "1aa03d60"
    },
    {
      "cell_type": "markdown",
      "metadata": {
        "id": "9646d163"
      },
      "source": [
        "El primer par de funciones que escribiremos no tienen parámetros, de manera que su sintaxis es:"
      ],
      "id": "9646d163"
    },
    {
      "cell_type": "code",
      "metadata": {
        "id": "eb4e3bcd"
      },
      "source": [
        "def nueva_linea():\n",
        "    print()\n"
      ],
      "id": "eb4e3bcd",
      "execution_count": null,
      "outputs": []
    },
    {
      "cell_type": "markdown",
      "metadata": {
        "id": "af5f4fad"
      },
      "source": [
        "    \n",
        "Esta función se llama nueva linea. "
      ],
      "id": "af5f4fad"
    },
    {
      "cell_type": "markdown",
      "metadata": {
        "id": "31eb945a"
      },
      "source": [
        "Los paréntesis vacíos indican que no tiene parámetros. "
      ],
      "id": "31eb945a"
    },
    {
      "cell_type": "markdown",
      "metadata": {
        "id": "798c1bb6"
      },
      "source": [
        "Contiene una única sentencia, que muestra como salida un carácter de nueva línea (es lo que sucede cuando utiliza una orden `print()` sin argumentos)."
      ],
      "id": "798c1bb6"
    },
    {
      "cell_type": "markdown",
      "metadata": {
        "id": "732a6859"
      },
      "source": [
        "Llamamos entonces a la función nueva usando la misma sintaxis que usamos para las funciones internas:"
      ],
      "id": "732a6859"
    },
    {
      "cell_type": "code",
      "metadata": {
        "id": "24d769b9"
      },
      "source": [
        "print(\"Primera linea.\")\n",
        "nueva_linea()\n",
        "print(\"Segunda linea.\")"
      ],
      "id": "24d769b9",
      "execution_count": null,
      "outputs": []
    },
    {
      "cell_type": "markdown",
      "metadata": {
        "id": "08482285"
      },
      "source": [
        "Observe el espacio añadido que hay entre las dos líneas. "
      ],
      "id": "08482285"
    },
    {
      "cell_type": "markdown",
      "metadata": {
        "id": "e0751e59"
      },
      "source": [
        "Si quisiéramos más espacios, entre las líneas, ¿qué haríamos? Podemos llamar varias veces a la misma función:"
      ],
      "id": "e0751e59"
    },
    {
      "cell_type": "code",
      "metadata": {
        "id": "9ab891c9"
      },
      "source": [
        "print(\"Primera linea.\")\n",
        "nueva_linea()\n",
        "nueva_linea()\n",
        "nueva_linea()\n",
        "print(\"Segunda linea.\")"
      ],
      "id": "9ab891c9",
      "execution_count": null,
      "outputs": []
    },
    {
      "cell_type": "markdown",
      "metadata": {
        "id": "85cdf930"
      },
      "source": [
        "O bien podemos escribir una nueva función que llamaremos `tresLineas()`, y que imprima tres nuevas líneas:"
      ],
      "id": "85cdf930"
    },
    {
      "cell_type": "code",
      "metadata": {
        "id": "db816805"
      },
      "source": [
        "def tresLineas():\n",
        "    nueva_linea()\n",
        "    nueva_linea()\n",
        "    nueva_linea()\n",
        "print(\"Primera Linea.\")\n",
        "tresLineas()\n",
        "print(\"Segunda Linea.\")"
      ],
      "id": "db816805",
      "execution_count": null,
      "outputs": []
    },
    {
      "cell_type": "markdown",
      "metadata": {
        "id": "c389ba0a"
      },
      "source": [
        "Esta función contiene tres sentencias, las cuales están todas indentadas con **cuatro** espacios. "
      ],
      "id": "c389ba0a"
    },
    {
      "cell_type": "markdown",
      "metadata": {
        "id": "8245f242"
      },
      "source": [
        "Puesto que la siguiente sentencia no está indentada, Python sabe que no es parte de la función."
      ],
      "id": "8245f242"
    },
    {
      "cell_type": "markdown",
      "metadata": {
        "id": "93645587"
      },
      "source": [
        "Observe los siguientes puntos con respecto a este programa:  \n",
        "\n",
        "1. Se puede llamar al mismo procedimiento repetidamente. De hecho es bastante útil hacerlo, además de habitual.\n",
        "2. Se puede llamar a una función desde dentro de otra función: en este caso `tresLineas()` llama a `nueva linea()`.  "
      ],
      "id": "93645587"
    },
    {
      "cell_type": "markdown",
      "metadata": {
        "id": "2b549018"
      },
      "source": [
        "Hasta ahora puede no haber quedar claro por qué vale la pena crear todas estas funciones nuevas. "
      ],
      "id": "2b549018"
    },
    {
      "cell_type": "markdown",
      "metadata": {
        "id": "1c05fc8e"
      },
      "source": [
        "En realidad hay muchísimas razones, pero este ejemplo demuestra dos:  \n",
        "\n",
        "* Crear una nueva función le da la oportunidad de dar un nombre a un grupo de sentencias. \n",
        "* Las funciones simplifican su programa al ocultar cálculos complejos detrás de órdenes sencillas, y usar palabras de su \n",
        "  propia lengua en vez de código arcano."
      ],
      "id": "1c05fc8e"
    },
    {
      "cell_type": "markdown",
      "metadata": {
        "id": "c20f41a8"
      },
      "source": [
        "Crear una nueva función hace que el programa sea más pequeño, al eliminar código repetitivo. "
      ],
      "id": "c20f41a8"
    },
    {
      "cell_type": "markdown",
      "metadata": {
        "id": "3f15c087"
      },
      "source": [
        "Por ejemplo, una manera de imprimir nueve líneas consecutivas es llamar a `tresLineas()` tres veces."
      ],
      "id": "3f15c087"
    },
    {
      "cell_type": "markdown",
      "metadata": {
        "id": "c2d56f9f"
      },
      "source": [
        "Como actividad, escriba una función llamada `nueveLineas()` que use `tresLineas()` para imprimir nueve líneas en blanco. "
      ],
      "id": "c2d56f9f"
    },
    {
      "cell_type": "markdown",
      "metadata": {
        "id": "c781bc0e"
      },
      "source": [
        "¿Cómo imprimiría 27 líneas nuevas?"
      ],
      "id": "c781bc0e"
    },
    {
      "cell_type": "markdown",
      "metadata": {
        "id": "34dd6545"
      },
      "source": [
        "## 3.7. Las definiciones y el uso"
      ],
      "id": "34dd6545"
    },
    {
      "cell_type": "markdown",
      "metadata": {
        "id": "e5e4aff9"
      },
      "source": [
        "Juntando los fragmentos de código de la sección anterior, el programa completo queda de la siguiente manera:"
      ],
      "id": "e5e4aff9"
    },
    {
      "cell_type": "markdown",
      "metadata": {
        "id": "36b26292"
      },
      "source": [
        "def nueva_linea():\n",
        "print\n",
        "def tresLineas():\n",
        "nueva_linea()\n",
        "nueva_linea()\n",
        "nueva_linea()\n",
        "print \"Primera Linea.\"\n",
        "tresLineas()\n",
        "print \"Segunda Linea.\""
      ],
      "id": "36b26292"
    },
    {
      "cell_type": "markdown",
      "metadata": {
        "id": "3f3e47b2"
      },
      "source": [
        "El presente programa contiene dos definiciones de funciones: nueva linea y\n",
        "tresLineas. Las definiciones de funciones se ejecutan como el resto de senten\u0002cias, pero el efecto es crear una nueva funci´on. Las sentencias del interior de\n",
        "la funci´on no se ejecutan hasta que se llama a la funci´on, y la definici´on de la\n",
        "funci´on no genera salida.\n",
        "Como era de esperar, tiene que crear una funci´on antes de poder ejecutarla.\n",
        "En otras palabras, la definici´on de la funci´on tiene que ejecutarse antes de la\n",
        "primera vez que se la invoque.\n",
        "Como actividad, pruebe a ejecutar este programa moviendo las tres\n",
        "ultimas ´ sentencias al principio del programa. Registre qu´e mensaje\n",
        "de error obtiene usted.\n",
        "Como segunda actividad, pruebe a tomar la versi´on del programa\n",
        "que funcionaba y a mover la definci´on de nueva linea m´as abajo\n",
        "que la definici´on de tresLineas . ¿Qu´e ocurre cuando ejecuta el\n",
        "programa?"
      ],
      "id": "3f3e47b2"
    },
    {
      "cell_type": "markdown",
      "metadata": {
        "id": "ac2df688"
      },
      "source": [
        "## 3.8. Flujo de ejecución  "
      ],
      "id": "ac2df688"
    },
    {
      "cell_type": "markdown",
      "metadata": {
        "id": "11281570"
      },
      "source": [
        "Para asegurarse de que una funci´on se define antes de su primer uso, tiene que\n",
        "conocer el orden en el que se ejecutan las sentencias; a esto se le llama flujo de\n",
        "ejecuci´on.\n",
        "La ejecuci´on comienza siempre por la primera sentencia del programa. Las sen\u0002tencias se ejecutan a raz´on de una cada vez, en orden, hasta que se alcanza una\n",
        "llamada a una funci´on."
      ],
      "id": "11281570"
    },
    {
      "cell_type": "markdown",
      "metadata": {
        "id": "3ba6f249"
      },
      "source": [
        "Las definiciones de funciones no alteran el flujo de ejecuci´on del programa, pero\n",
        "recuerde que las sentencias que hay dentro de la funci´on no se ejecutan hasta\n",
        "que se hace la llamada a la funci´on. Aunque no es habitual, puede definir una funci´on dentro de otra. En este caso, la definici´on de funci´on interior no se\n",
        "ejecuta hasta que no se llama a la funci´on exterior."
      ],
      "id": "3ba6f249"
    },
    {
      "cell_type": "markdown",
      "metadata": {
        "id": "5a95458e"
      },
      "source": [
        "Las llamadas a funciones son como un desv´ıo en el flujo de ejecuci´on. En lugar\n",
        "de ir a la siguiente sentencia, el flujo salta hasta la primera l´ınea de la funci´on\n",
        "a la que se llama, ejecuta todas las sentencias que encuentre all´ı, y vuelve a\n",
        "retomar la ejecuci´on en el punto donde lo dej´o.\n",
        "Esto suena bastante sencillo... hasta que se acuerda de que una funci´on puede\n",
        "llamar a otra. Mientras estamos en medio de una funci´on, podr´ıamos vernos\n",
        "obligados a abandonarla e ir a ejecutar sentencias en otra funci´on m´as. Pero\n",
        "mientras estamos en esta nueva funci´on, ¡podr´ıamos salirnos y ejecutar otra\n",
        "funci´on m´as!"
      ],
      "id": "5a95458e"
    },
    {
      "cell_type": "markdown",
      "metadata": {
        "id": "ea6af57d"
      },
      "source": [
        "Afortunadamente, a Python se le da bien tomar nota de d´onde est´a, de manera que cada vez que se completa una funci´on, el programa retoma el punto en donde lo dej´o en la funci´on que hizo la llamada. "
      ],
      "id": "ea6af57d"
    },
    {
      "cell_type": "markdown",
      "metadata": {
        "id": "a8aafeb3"
      },
      "source": [
        "Cuando llega al final del programa, termina."
      ],
      "id": "a8aafeb3"
    },
    {
      "cell_type": "markdown",
      "metadata": {
        "id": "e2211583"
      },
      "source": [
        "¿Cu´al es la moraleja de toda esta historia? "
      ],
      "id": "e2211583"
    },
    {
      "cell_type": "markdown",
      "metadata": {
        "id": "4db02757"
      },
      "source": [
        "Cuando est´e leyendo un programa, no lo lea desde la parte superior a la inferior. "
      ],
      "id": "4db02757"
    },
    {
      "cell_type": "markdown",
      "metadata": {
        "id": "4f84b7e0"
      },
      "source": [
        "En lugar de eso, siga el flujo de ejecuci´on."
      ],
      "id": "4f84b7e0"
    },
    {
      "cell_type": "markdown",
      "metadata": {
        "id": "89bac5a5"
      },
      "source": [
        "## 3.9. Parámetros y argumentos"
      ],
      "id": "89bac5a5"
    },
    {
      "cell_type": "markdown",
      "metadata": {
        "id": "ddd6df81"
      },
      "source": [
        "Algunas de las funciones internas que hemos usado precisan de argumentos, los\n",
        "valores que controlan c´omo la funci´on lleva a cabo su tarea. Por ejemplo, si\n",
        "desea encontrar el seno de un numero, ´ tiene que indicar de qu´e numero ´ se trata.\n",
        "As´ı pues, sin toma como argumento un valor num´erico.\n",
        "Algunas funciones toman m´as de un argumento, como pow, que toma dos argu\u0002mentos: la base y el exponente. Dentro de la funci´on, los valores que se le han\n",
        "pasado se asignan a variables llamadas par´ametros.\n",
        "He aqu´ı un ejemplo de una funci´on definida por el usuario, que toma un par´ame\u0002tro:\n",
        "def imprimeDoble(paso):\n",
        "print paso, paso\n",
        "Esta funci´on toma un unico ´ argumento y se lo asigna a un par´ametro llamado\n",
        "paso. El valor del par´ametro (en este punto todav´ıa no tenemos ni idea de cu´al\n",
        "ser´a) se imprime dos veces, seguido por un car´acter de nueva l´ınea. El nombre\n",
        "paso se eligi´o para sugerir que el nombre que le d´e a un par´ametro depende de\n",
        "usted, pero en general es mejor que elija un nombre m´as ilustrativo que paso La funci´on imprimeDoble sirve con cualquier tipo (de dato) que se pueda im\u0002primir:\n",
        ">>> imprimeDoble(’Jam´on’)\n",
        "Jam´on Jam´on\n",
        ">>> imprimeDoble(5)\n",
        "5 5\n",
        ">>> imprimeDoble(3.14159)\n",
        "3.14159 3.14159"
      ],
      "id": "ddd6df81"
    },
    {
      "cell_type": "markdown",
      "metadata": {
        "id": "e8079e10"
      },
      "source": [
        "En la primera llamada a la funci´on, el argumento es una cadena; en la segunda\n",
        "es un entero, y en la tercera es un numero ´ de coma flotante.\n",
        "Las mismas reglas de composici´on que se aplican a las funciones internas se\n",
        "aplican tambi´en a las funciones definidas por el usuario, as´ı que puede usar\n",
        "cualquier tipo de expresi´on como argumento de imprimeDoble."
      ],
      "id": "e8079e10"
    },
    {
      "cell_type": "markdown",
      "metadata": {
        "id": "4bf60ac3"
      },
      "source": [
        ">>> imprimeDoble(’Jam´on’*4)\n",
        "Jam´onJam´onJam´onJam´on Jam´onJam´onJam´onJam´on\n",
        ">>> imprimeDoble(math.cos(math.pi))\n",
        "-1.0 -1.0"
      ],
      "id": "4bf60ac3"
    },
    {
      "cell_type": "markdown",
      "metadata": {
        "id": "6dc8f5ce"
      },
      "source": [
        "Como de costumbre, se evalua´ la expresi´on antes de ejecutar la funci´on, de modo\n",
        "que imprimeDoble devuelve Jam´onJam´onJam´onJam´on Jam´onJam´onJam´onJam´on\n",
        "en lugar de ’Jam´on’*4’Jam´on’*4.\n",
        "Asimismo podemos usar una variable como argumento:"
      ],
      "id": "6dc8f5ce"
    },
    {
      "cell_type": "markdown",
      "metadata": {
        "id": "a0b485d8"
      },
      "source": [
        ">>> latoya = ’Dafne, es mitad laurel mitad ninfa’\n",
        ">>> imprimeDoble(latoya)"
      ],
      "id": "a0b485d8"
    },
    {
      "cell_type": "markdown",
      "metadata": {
        "id": "2076ed95"
      },
      "source": [
        "Dafne, es mitad laurel mitad ninfa. Dafne, es mitad laurel mitad ninfa.\n",
        "Observe un aspecto realmente importante en este caso: el nombre de la variable\n",
        "que pasamos como argumento (latoya) no tiene nada que ver con el nombre del\n",
        "par´ametro (paso). No importa c´omo se llamaba el valor en su lugar original (el\n",
        "lugar desde donde se invoc´o); aqu´ı en imprimeDoble llamamos a todo el mundo\n",
        "paso."
      ],
      "id": "2076ed95"
    },
    {
      "cell_type": "markdown",
      "metadata": {
        "id": "d13f5772"
      },
      "source": [
        "## 3.10. Las variables y los parámetros son locales"
      ],
      "id": "d13f5772"
    },
    {
      "cell_type": "markdown",
      "metadata": {
        "id": "0bea3137"
      },
      "source": [
        "Cuando crea una variable dentro de una función, s´olo existe dentro de dicha funci´on, y no puede usarla fuera de ella. "
      ],
      "id": "0bea3137"
    },
    {
      "cell_type": "markdown",
      "metadata": {
        "id": "34c00bf1"
      },
      "source": [
        "Por ejemplo, la función "
      ],
      "id": "34c00bf1"
    },
    {
      "cell_type": "code",
      "metadata": {
        "id": "55c1b05f"
      },
      "source": [
        "def catDoble(parte1, parte2):\n",
        "    cat = parte1 + parte2\n",
        "    imprimeDoble(cat)\n"
      ],
      "id": "55c1b05f",
      "execution_count": null,
      "outputs": []
    },
    {
      "cell_type": "markdown",
      "metadata": {
        "id": "89181d11"
      },
      "source": [
        "toma dos argumentos, los concatena y luego imprime el resultado dos veces.\n",
        "Podemos llamar a la funci´on con dos cadenas:\n",
        ">>> cantus1 = \"Die Jesu domine, \"\n",
        ">>> cantus2 = \"Dona eis requiem.\"\n",
        ">>> catDoble(cantus1, cantus2)\n",
        "Die Jesu domine, Dona eis requiem. Die Jesu domine, Dona eis requiem.\n",
        "Cuando catDoble termina, la variable cat se destruye. Si trat´asemos de impri\u0002mirla, obtendr´ıamos un error:\n",
        ">>> print cat\n",
        "NameError: cat\n",
        "Los par´ametros tambi´en son locales. Por ejemplo, una vez fuera de la funci´on\n",
        "imprimeDoble, no existe nada llamado paso. Si trata de usarla, Python se que\u0002jar´a."
      ],
      "id": "89181d11"
    },
    {
      "cell_type": "markdown",
      "metadata": {
        "id": "5867239b"
      },
      "source": [
        "## 3.11. Diagramas de pila"
      ],
      "id": "5867239b"
    },
    {
      "cell_type": "markdown",
      "metadata": {
        "id": "98eeca08"
      },
      "source": [
        "Para mantener el rastro de qu´e variables pueden usarse y d´onde, a veces es util ´\n",
        "dibujar un diagrama de pila. Como los diagramas de estado, los diagramas\n",
        "de pila muestran el valor de cada variable, pero tambi´en muestran la funci´on a\n",
        "la que cada variable pertenece.\n",
        "Cada funci´on se representa por una caja con el nombre de la funci´on junto a\n",
        "´el. Los par´ametros y variables que pertenecen a una funci´on van dentro. Por\n",
        "ejemplo, el diagrama de stack para el programa anterior tiene este aspecto:\n",
        "catTwice\n",
        "chant1\n",
        "chant2\n",
        "\"Pie Jesu domine,\"\n",
        "\"Dona eis requiem.\"\n",
        "__main__\n",
        "printTwice\n",
        "part1\n",
        "part2\n",
        "cat\n",
        "\"Pie Jesu domine,\"\n",
        "\"Pie Jesu domine, Dona eis requiem.\"\n",
        "\"Dona eis requiem.\"\n",
        "bruce \"Pie Jesu domine, Dona eis requiem.\"\n",
        "El orden de la pila muestra el flujo de ejecuci´on. imprimeDoble fue llamado\n",
        "por catDoble y a catDoble lo invoc´o main , que es un nombre especial de la funci´on m´as alta. Cuando crea una variable fuera de cualquier funci´on, pertenece\n",
        "a main .\n",
        "En cada caso, el par´ametro se refiere al mismo valor que el argumento corres\u0002pondiente. As´ı que parte1 en catDoble tiene el mismo valor que cantus1 en\n",
        "main .\n",
        "Si sucede un error durante la llamada a una funci´on, Python imprime el nombre\n",
        "de la funci´on y el nombre de la funci´on que la llam´o, y el nombre de la funci´on\n",
        "que llam´o a ´esa, y as´ı hasta main .\n",
        "Por ejemplo, si intentamos acceder a cat desde imprimeDoble, provocaremos\n",
        "un NameError:\n",
        "Traceback (innermost last):\n",
        "File \"test.py\", line 13, in __main__\n",
        "catDoble(cantus1, cantus2)\n",
        "File \"test.py\", line 5, in catDoble\n",
        "imprimeDoble(cat)\n",
        "File \"test.py\", line 9, in imprimeDoble\n",
        "print cat\n",
        "NameError: cat\n",
        "Esta lista de funciones de llama traceback (traza inversa). Le dice a usted en\n",
        "qu´e archivo de programa sucedi´o el error, y en qu´e l´ınea, y qu´e funciones se\n",
        "ejecutaban en ese momento. Tambi´en muestra la l´ınea de c´odigo que caus´o el\n",
        "error.\n",
        "F´ıjese en la similaridad entre la traza inversa y el diagrama de pila. No es una\n",
        "coincidencia."
      ],
      "id": "98eeca08"
    },
    {
      "cell_type": "markdown",
      "metadata": {
        "id": "c70c8402"
      },
      "source": [
        "## 3.12. Funciones con resultado"
      ],
      "id": "c70c8402"
    },
    {
      "cell_type": "markdown",
      "metadata": {
        "id": "28cf32bc"
      },
      "source": [
        "Seguramente ha notado ya que algunas de las funciones que estamos usando,\n",
        "igual que las funciones matem´aticas, devuelven un resultado. Otras funciones,\n",
        "como nueva linea, llevan a cabo una acci´on pero no devuelven un valor. Ello\n",
        "suscita varias preguntas:\n",
        "1. ¿Qu´e sucede si llama usted a uana funci´on y no hace nada con el resultado\n",
        "(es decir, no lo asigna a una variable ni lo usa como parte de una expresi´on\n",
        "m´as amplia)?\n",
        "2. ¿Qu´e sucede si usa una funci´on sin resultado como parte de una expresi´on,\n",
        "por ejemplo nueva linea() + 7?\n",
        "3. ¿Se pueden escribir funciones que devuelvan resultados, o debemos limi\u0002tarnos a funcinoes simples como nueva linea e imprimeDoble?\n",
        "La respuesta a la tercera pregunta es “s´ı, puede escribir funciones que devuelvan\n",
        "valores”, y lo haremos en el cap´ıtulo 5.\n",
        "Como actividad final, consteste a las otras dos preguntas intentando\n",
        "hacerlas en la pr´actica. Cada vez que tenga una duda sobre lo que\n",
        "es legal o ilegal en Python, perguntar al int´erprete ser´a una buena\n",
        "manera de averiguarlo.\n"
      ],
      "id": "28cf32bc"
    },
    {
      "cell_type": "markdown",
      "metadata": {
        "id": "7cc34fff"
      },
      "source": [
        "## 3.13. Glosario"
      ],
      "id": "7cc34fff"
    },
    {
      "cell_type": "markdown",
      "metadata": {
        "id": "76634d78"
      },
      "source": [
        "llamada a funci´on: Una sentencia que ejecuta una funci´on. Est´a compuesta\n",
        "por el nombre de la funci´on m´as una lista de argumentos encerrados entre\n",
        "par´entesis.\n",
        "argumento: Valor que se le pasa a una funci´on cuando se la llama. El valor se\n",
        "asigna al par´ametro correspondiente de la funci´on.\n",
        "valor de retorno: Es el resultado de una funci´on. Si se usa una llamada a\n",
        "funci´on a modo de expresi´on, el valor de retorno es el valor de la expresi´on.\n",
        "conversi´on de tipo: Una sentencia expl´ıcita que toma un valor de un tipo y\n",
        "calcula el valor correspondiente de otro tipo.\n",
        "coerci´on: Conversi´on tipos que ocurre autom´aticamente de acuerdo con las\n",
        "reglas de coerci´on de Python.\n",
        "m´odulo: Fichero que contiene una colecci´on de funciones y clases relacionadas.\n",
        "notaci´on de punto: La sintaxis para llamar a una funci´on de otro m´odulo,\n",
        "especificando el nombre del m´odulo, seguido por un punto y el nombre de\n",
        "la funci´on.\n",
        "funci´on: Secuencia de sentencias etiquetadas que llevan a cabo determinada\n",
        "operaci´on de utilidad. Las funciones pueden tomar par´ametros o no, y\n",
        "pueden producir un resultado o no.\n",
        "definici´on de funci´on: Sentencia que crea una nueva funci´on, especificando\n",
        "su nombre, par´ametros y las sentencias que ejecuta.\n",
        "flujo de ejecuci´on: Orden en el que se ejecutan las sentencias durante la eje\u0002cuci´on de un programa.\n",
        "par´ametro: Nombre que se usa dentro de una funci´on para referirse a el valor\n",
        "que se le pasa como argumento.\n",
        "variable local: variable definida dentro de una funci´on. Las variables locales\n",
        "s´olo pueden usarse dentro de su funci´on.\n",
        "diagrama de pila: Representaci´on gr´afica de una pila de funciones, sus varia\u0002bles y los valores a los que se refieren.\n",
        "traza inversa: (traceback en ingl´es) Una lista de las funciones en curso de\n",
        "ejecuci´on, presentadas cuando sucede un error en tiempo de ejecuci´on.\n",
        "notaci´on de punto traza inversa\n",
        "\n"
      ],
      "id": "76634d78"
    },
    {
      "cell_type": "markdown",
      "metadata": {
        "id": "fb595698"
      },
      "source": [
        "# Capítulo 4  \n",
        "\n",
        "## Condicionales y recursividad  \n",
        "\n",
        "### 4.1. El operador módulo  "
      ],
      "id": "fb595698"
    },
    {
      "cell_type": "markdown",
      "metadata": {
        "id": "1f15dd95"
      },
      "source": [
        "El operador módulo funciona con enteros (y expresiones enteras), y devuelve el resto de dividir el primer operando entre el segundo. "
      ],
      "id": "1f15dd95"
    },
    {
      "cell_type": "markdown",
      "metadata": {
        "id": "4e58c312"
      },
      "source": [
        "En Python, el operador de m´odulo es el signo de tanto por ciento ( %). La sintaxis es la misma de los\n",
        "otros operadores:"
      ],
      "id": "4e58c312"
    },
    {
      "cell_type": "code",
      "metadata": {
        "id": "b0cc0ee7"
      },
      "source": [
        "cociente = 7//3\n",
        "print(cociente)"
      ],
      "id": "b0cc0ee7",
      "execution_count": null,
      "outputs": []
    },
    {
      "cell_type": "code",
      "metadata": {
        "id": "e9564607"
      },
      "source": [
        "resto = 7 % 3\n",
        "print(resto) "
      ],
      "id": "e9564607",
      "execution_count": null,
      "outputs": []
    },
    {
      "cell_type": "markdown",
      "metadata": {
        "id": "26253148"
      },
      "source": [
        "Así, $7$ dividido entre $3$ da $2$ con $1$ de resto."
      ],
      "id": "26253148"
    },
    {
      "cell_type": "markdown",
      "metadata": {
        "id": "6c3d718d"
      },
      "source": [
        "El operador de módulo resulta ser soprendentemente útil."
      ],
      "id": "6c3d718d"
    },
    {
      "cell_type": "markdown",
      "metadata": {
        "id": "84612380"
      },
      "source": [
        "Por ejemplo, puede comprobar si un número es divisible entre otro: si `x%y` es cero, entonces $x$ es divisible entre $y$."
      ],
      "id": "84612380"
    },
    {
      "cell_type": "markdown",
      "metadata": {
        "id": "555a6726"
      },
      "source": [
        "También puede usar el operador m´odulo para extraer el d´ıgito m´as a la derecha\n",
        "de un numero. "
      ],
      "id": "555a6726"
    },
    {
      "cell_type": "markdown",
      "metadata": {
        "id": "aecc5ac0"
      },
      "source": [
        "Por ejemplo, `x % 10` devuelve el dígito más a la derecha de `x` (en base 10). "
      ],
      "id": "aecc5ac0"
    },
    {
      "cell_type": "code",
      "metadata": {
        "id": "6b932f73"
      },
      "source": [
        "x = 54\n",
        "x%10"
      ],
      "id": "6b932f73",
      "execution_count": null,
      "outputs": []
    },
    {
      "cell_type": "markdown",
      "metadata": {
        "id": "5876d314"
      },
      "source": [
        "De forma similar, `x % 100` devuelve los dos últimos dígitos."
      ],
      "id": "5876d314"
    },
    {
      "cell_type": "markdown",
      "metadata": {
        "id": "77f53d8f"
      },
      "source": [
        "## 4.2. Expresiones booleanas"
      ],
      "id": "77f53d8f"
    },
    {
      "cell_type": "markdown",
      "metadata": {
        "id": "90d07544"
      },
      "source": [
        "Una expresi´on booleana es una expresi´on que es cierta o falsa. En Python,\n",
        "una expresi´on que es cierta tiene el valor 1, y una expresi´on que es falsa tiene\n",
        "el valor 0.\n",
        "El operador == compara dos valores y entrega una expresi´on booleana:\n",
        ">>> 5 == 5\n",
        "1\n",
        ">>> 5 == 6\n",
        "0\n",
        "En la primera sentencia, los dos operandos son iguales, as´ı que la expresi´on se\n",
        "evalua´ como 1 (verdadero); en la segunda sentencia, 5 no es igual a 6, as´ı que\n",
        "obtenemos 0 (falso)."
      ],
      "id": "90d07544"
    },
    {
      "cell_type": "markdown",
      "metadata": {
        "id": "3ec0a364"
      },
      "source": [
        "El operador `==` es uno de los operadores de comparación; los otros son:"
      ],
      "id": "3ec0a364"
    },
    {
      "cell_type": "markdown",
      "metadata": {
        "id": "0683b166"
      },
      "source": [
        "|Operador de comparación|Significado|\n",
        "|-----------------------|-----------|  \n",
        "|x != y |    # x no es igual a y|    \n",
        "|x > y |     # x es mayor que y | \n",
        "|x < y |     # x es menor que y | \n",
        "|x >= y |    # x es mayor o igual que y|  \n",
        "|x <= y|     # x es menor o igual que y|  "
      ],
      "id": "0683b166"
    },
    {
      "cell_type": "markdown",
      "metadata": {
        "id": "8e125771"
      },
      "source": [
        "Aunque probablemente estas operaciones le resulten familiares, los símbolos en Python son diferentes de los matemáticos. "
      ],
      "id": "8e125771"
    },
    {
      "cell_type": "markdown",
      "metadata": {
        "id": "d6d5c1ec"
      },
      "source": [
        "Un error habitual es utilizar un signo\n",
        "igual sencillo (=) en lugar del doble (==). Recuerde que = es un operador de\n",
        "asignaci´on y == es un operador de comparaci´on. Adem´as, no existen =< ni =>."
      ],
      "id": "d6d5c1ec"
    },
    {
      "cell_type": "markdown",
      "metadata": {
        "id": "762530a9"
      },
      "source": [
        "## 4.3. Operadores lógicos  "
      ],
      "id": "762530a9"
    },
    {
      "cell_type": "markdown",
      "metadata": {
        "id": "a70d82af"
      },
      "source": [
        "Hay tres operadores lógicos: `and`, `or`, y `not`. "
      ],
      "id": "a70d82af"
    },
    {
      "cell_type": "markdown",
      "metadata": {
        "id": "3221a3f0"
      },
      "source": [
        "La semántica (significado) de estos operadores es similar a sus significados en inglés. "
      ],
      "id": "3221a3f0"
    },
    {
      "cell_type": "markdown",
      "metadata": {
        "id": "98f3037b"
      },
      "source": [
        "Por ejemplo, `x >0 and x <10` es verdadero sólo si `x` es mayor que `0` y menor que `10`."
      ],
      "id": "98f3037b"
    },
    {
      "cell_type": "markdown",
      "metadata": {
        "id": "89f63113"
      },
      "source": [
        "`n %2 == 0 or n %3 == 0` es verdadero si cualquiera de las condiciones es verdadera, o sea, si el número es divisible por 2 o por 3."
      ],
      "id": "89f63113"
    },
    {
      "cell_type": "markdown",
      "metadata": {
        "id": "74f17de0"
      },
      "source": [
        "Finalmente, el operador not niega una expresi´on booleana, de forma que `not(x > y)` es cierto si `(x > y)` es falso, o sea, si `x` es menor o igual que `y`."
      ],
      "id": "74f17de0"
    },
    {
      "cell_type": "markdown",
      "metadata": {
        "id": "0080793a"
      },
      "source": [
        "Hablando estrictamente, los operandos de los operadores lógicos deberían ser expresiones booleanas, pero Python no es muy estricto. "
      ],
      "id": "0080793a"
    },
    {
      "cell_type": "markdown",
      "metadata": {
        "id": "4019d5f2"
      },
      "source": [
        "Cualqueir número que no sea cero se interpreta como “verdadero”"
      ],
      "id": "4019d5f2"
    },
    {
      "cell_type": "code",
      "metadata": {
        "id": "a42ccdfd"
      },
      "source": [
        "x = 5\n",
        "x and 1"
      ],
      "id": "a42ccdfd",
      "execution_count": null,
      "outputs": []
    },
    {
      "cell_type": "code",
      "metadata": {
        "id": "c1a71af0"
      },
      "source": [
        "y = 0\n",
        "y and 1"
      ],
      "id": "c1a71af0",
      "execution_count": null,
      "outputs": []
    },
    {
      "cell_type": "markdown",
      "metadata": {
        "id": "3286e5f1"
      },
      "source": [
        "En general, este tipo de cosas no se considera buen estilo. "
      ],
      "id": "3286e5f1"
    },
    {
      "cell_type": "markdown",
      "metadata": {
        "id": "037431e8"
      },
      "source": [
        "Si quiere comparar un valor con cero, debería hacerlo explícitamente."
      ],
      "id": "037431e8"
    },
    {
      "cell_type": "markdown",
      "metadata": {
        "id": "a76f08bf"
      },
      "source": [
        "## 4.4. Ejecución condicional"
      ],
      "id": "a76f08bf"
    },
    {
      "cell_type": "markdown",
      "metadata": {
        "id": "ab4e28af"
      },
      "source": [
        "Para escribir programas útiles, casi siempre necesitamos la capacidad de comprobar ciertas condiciones y cambiar el comportamiento del programa en consonancia. "
      ],
      "id": "ab4e28af"
    },
    {
      "cell_type": "markdown",
      "metadata": {
        "id": "39df36f7"
      },
      "source": [
        "Las sentencias condicionales nos dan esta capacidad. "
      ],
      "id": "39df36f7"
    },
    {
      "cell_type": "markdown",
      "metadata": {
        "id": "23eb401e"
      },
      "source": [
        "La forma más sencilla es la sentencia `if`:"
      ],
      "id": "23eb401e"
    },
    {
      "cell_type": "code",
      "metadata": {
        "id": "5e08dda0"
      },
      "source": [
        "if x > 0:\n",
        "    print(\"x es positivo\") "
      ],
      "id": "5e08dda0",
      "execution_count": null,
      "outputs": []
    },
    {
      "cell_type": "markdown",
      "metadata": {
        "id": "b2d5e44d"
      },
      "source": [
        "La expresión booleana tras el `if` se llama condición. "
      ],
      "id": "b2d5e44d"
    },
    {
      "cell_type": "markdown",
      "metadata": {
        "id": "5f96573d"
      },
      "source": [
        "Si es verdadera, entonces la sentencia indentada se ejecuta. "
      ],
      "id": "5f96573d"
    },
    {
      "cell_type": "markdown",
      "metadata": {
        "id": "4a37d919"
      },
      "source": [
        "Si la condición no es verdadera, no pasa nada."
      ],
      "id": "4a37d919"
    },
    {
      "cell_type": "markdown",
      "metadata": {
        "id": "50087348"
      },
      "source": [
        "Como otras sentencias compuestas, if consta de una cabecera y un bloque de sentencias:  \n",
        "CABECERA:  \n",
        "PRIMERA SENTENCIA  \n",
        "...\n",
        "ULITMA SENTENCIA  "
      ],
      "id": "50087348"
    },
    {
      "cell_type": "markdown",
      "metadata": {
        "id": "be4b3659"
      },
      "source": [
        "La cabecera comienza con una nueva línea y termina con el signo de dos puntos."
      ],
      "id": "be4b3659"
    },
    {
      "cell_type": "markdown",
      "metadata": {
        "id": "0874de60"
      },
      "source": [
        "Los elementos indentados que siguen se llaman bloque de la sentencia. "
      ],
      "id": "0874de60"
    },
    {
      "cell_type": "markdown",
      "metadata": {
        "id": "60b529bb"
      },
      "source": [
        "La primera sentencia no indentada marca el fin del bloque. "
      ],
      "id": "60b529bb"
    },
    {
      "cell_type": "markdown",
      "metadata": {
        "id": "e4e1bdda"
      },
      "source": [
        "Un bloque de sentencias dentro de una sentencia compuesta recibe el nombre de cuerpo de la sentencia."
      ],
      "id": "e4e1bdda"
    },
    {
      "cell_type": "markdown",
      "metadata": {
        "id": "18bc323f"
      },
      "source": [
        "No hay límite a la cantidad de sentencias que pueden aparecer en el cuerpo de una sentencia `if`, pero debe haber al menos una. "
      ],
      "id": "18bc323f"
    },
    {
      "cell_type": "markdown",
      "metadata": {
        "id": "5c9279ef"
      },
      "source": [
        "A veces, es útil tener un cuerpo sin sentencias, (normalmente como reserva de espacio para algo de código que todavía no ha escrito). "
      ],
      "id": "5c9279ef"
    },
    {
      "cell_type": "markdown",
      "metadata": {
        "id": "d568909e"
      },
      "source": [
        "En tales casos, puede usted utilizar la sentencia `pass`, que no hace nada."
      ],
      "id": "d568909e"
    },
    {
      "cell_type": "markdown",
      "metadata": {
        "id": "dfa5151c"
      },
      "source": [
        "## 4.5. Ejecución alternativa"
      ],
      "id": "dfa5151c"
    },
    {
      "cell_type": "markdown",
      "metadata": {
        "id": "e7e761ef"
      },
      "source": [
        "Una segunda forma de la sentencia `if` es la ejecuci´on alternativa, en la que hay dos posibilidades, y la condición determina cuál de ellas se ejecuta. "
      ],
      "id": "e7e761ef"
    },
    {
      "cell_type": "markdown",
      "metadata": {
        "id": "cd5d06e0"
      },
      "source": [
        "La sintaxis tiene este aspecto:"
      ],
      "id": "cd5d06e0"
    },
    {
      "cell_type": "code",
      "metadata": {
        "id": "9a7ab6cb"
      },
      "source": [
        "if x%2 == 0:\n",
        "    print(x, \"es par\")\n",
        "else:\n",
        "    print(x, \"es impar\") "
      ],
      "id": "9a7ab6cb",
      "execution_count": null,
      "outputs": []
    },
    {
      "cell_type": "markdown",
      "metadata": {
        "id": "bb3d0e39"
      },
      "source": [
        "Si el resto cuando se divide `x` entre 2 es cero, entonces sabemos que `x` es par, y este programa muestra un mensaje a tal efecto. "
      ],
      "id": "bb3d0e39"
    },
    {
      "cell_type": "markdown",
      "metadata": {
        "id": "5ab8a1e2"
      },
      "source": [
        "Si la condición es falsa, se ejecuta el segundo lote de sentencias. "
      ],
      "id": "5ab8a1e2"
    },
    {
      "cell_type": "markdown",
      "metadata": {
        "id": "5c3d6499"
      },
      "source": [
        "Puesto que la condición debe ser verdadera o falsa, se ejecutará exactamente una de las alternativas. "
      ],
      "id": "5c3d6499"
    },
    {
      "cell_type": "markdown",
      "metadata": {
        "id": "db5cfc62"
      },
      "source": [
        "Llamamos ramas a las posibilidades porque son ramas del flujo de ejecución."
      ],
      "id": "db5cfc62"
    },
    {
      "cell_type": "markdown",
      "metadata": {
        "id": "bfed16d7"
      },
      "source": [
        "Como un aparte, si piensa que querrá comprobar con frecuencia la paridad de números, quizá desee “envolver” este código en una función:"
      ],
      "id": "bfed16d7"
    },
    {
      "cell_type": "code",
      "metadata": {
        "id": "a4807606"
      },
      "source": [
        "def imprimeParidad(x):\n",
        "    if x%2 == 0:\n",
        "        print(x, \"es par\")\n",
        "    else:\n",
        "        print(x, \"es impar\")"
      ],
      "id": "a4807606",
      "execution_count": null,
      "outputs": []
    },
    {
      "cell_type": "markdown",
      "metadata": {
        "id": "f5710d0e"
      },
      "source": [
        "Ahora tiene una función llamada `imprimeParidad()` que muestra el mensaje apropiado para cada número entero que usted le pase."
      ],
      "id": "f5710d0e"
    },
    {
      "cell_type": "markdown",
      "metadata": {
        "id": "03b3783b"
      },
      "source": [
        " Llame a esta función de la manera siguiente:"
      ],
      "id": "03b3783b"
    },
    {
      "cell_type": "code",
      "metadata": {
        "id": "73069ce9"
      },
      "source": [
        "imprimeParidad(17)\n",
        "imprimeParidad(y+1)"
      ],
      "id": "73069ce9",
      "execution_count": null,
      "outputs": []
    },
    {
      "cell_type": "markdown",
      "metadata": {
        "id": "4f830b96"
      },
      "source": [
        "## 4.6. Condiciones encadenadas"
      ],
      "id": "4f830b96"
    },
    {
      "cell_type": "markdown",
      "metadata": {
        "id": "c3384b31"
      },
      "source": [
        "A veces hay más de dos posibilidades y necesitamos más de dos ramas. "
      ],
      "id": "c3384b31"
    },
    {
      "cell_type": "markdown",
      "metadata": {
        "id": "f1dd50e4"
      },
      "source": [
        "Una forma de expresar tal computación es un conditional encadenado:"
      ],
      "id": "f1dd50e4"
    },
    {
      "cell_type": "code",
      "metadata": {
        "id": "55358426"
      },
      "source": [
        "x,y = 2,2 \n",
        "if x < y:\n",
        "    print(x, \"es menor que\", y)\n",
        "elif x > y:\n",
        "    print(x, \"es mayor que\", y)\n",
        "else:\n",
        "    print(x, \"y\", y, \"son iguales\") "
      ],
      "id": "55358426",
      "execution_count": null,
      "outputs": []
    },
    {
      "cell_type": "markdown",
      "metadata": {
        "id": "2dc9023b"
      },
      "source": [
        "`elif` es una abreviatura de ”`else if`”. "
      ],
      "id": "2dc9023b"
    },
    {
      "cell_type": "markdown",
      "metadata": {
        "id": "af1aa570"
      },
      "source": [
        "De nuevo, sólo se ejecutará una rama. "
      ],
      "id": "af1aa570"
    },
    {
      "cell_type": "markdown",
      "metadata": {
        "id": "02a99197"
      },
      "source": [
        "No hay límite al número de sentencias `elif`, pero sólo se permite una sentencia `else` (que puede omitirse) y debe ser la última rama de la sentencia:"
      ],
      "id": "02a99197"
    },
    {
      "cell_type": "code",
      "metadata": {
        "id": "b7310853"
      },
      "source": [
        "if eleccion == 'A':\n",
        "    funcionA()\n",
        "elif eleccion == 'B':\n",
        "    funcionB()\n",
        "elif eleccion == 'C':\n",
        "    funcionC()\n",
        "else:\n",
        "    print(\"Eleccion no valida.\")"
      ],
      "id": "b7310853",
      "execution_count": null,
      "outputs": []
    },
    {
      "cell_type": "markdown",
      "metadata": {
        "id": "85d2204a"
      },
      "source": [
        "Las condiciones se comprueban en orden. "
      ],
      "id": "85d2204a"
    },
    {
      "cell_type": "markdown",
      "metadata": {
        "id": "21116da3"
      },
      "source": [
        "Si la primera es falsa, se comprueba la siguiente, y así si una de ellas es cierta, se ejecuta la rama correspondiente y termina la sentencia. "
      ],
      "id": "21116da3"
    },
    {
      "cell_type": "markdown",
      "metadata": {
        "id": "d22995fc"
      },
      "source": [
        "Incluso si es cierta más de una condición, sólo se ejecuta la primera rama verdadera."
      ],
      "id": "d22995fc"
    },
    {
      "cell_type": "markdown",
      "metadata": {
        "id": "808354d0"
      },
      "source": [
        "Como ejercicio, envuelva estos ejemplos en funciones llamadas `compara(x, y)` y `resuelve(eleccion)`."
      ],
      "id": "808354d0"
    },
    {
      "cell_type": "markdown",
      "metadata": {
        "id": "8e67c0ea"
      },
      "source": [
        "## 4.7. Condiciones anidadas  "
      ],
      "id": "8e67c0ea"
    },
    {
      "cell_type": "markdown",
      "metadata": {
        "id": "2ab7c905"
      },
      "source": [
        "Una condición puede estar anidada dentro de otra. "
      ],
      "id": "2ab7c905"
    },
    {
      "cell_type": "markdown",
      "metadata": {
        "id": "5127b621"
      },
      "source": [
        "Podíamos haber escrito así el ejemplo de tricotomía:"
      ],
      "id": "5127b621"
    },
    {
      "cell_type": "code",
      "metadata": {
        "id": "32359332"
      },
      "source": [
        "x,y=1,2\n",
        "if x == y:\n",
        "    print(x, \"y\", y, \"son iguales\")\n",
        "else:\n",
        "    if x < y:\n",
        "        print(x, \"es menor que\", y)\n",
        "    else:\n",
        "        print(x, \"es mayor que\", y)"
      ],
      "id": "32359332",
      "execution_count": null,
      "outputs": []
    },
    {
      "cell_type": "markdown",
      "metadata": {
        "id": "c503ca0a"
      },
      "source": [
        "La condición externa que contiene dos ramas. "
      ],
      "id": "c503ca0a"
    },
    {
      "cell_type": "markdown",
      "metadata": {
        "id": "1858ea0b"
      },
      "source": [
        "La primera rama contiene una sentencia simple de salida. "
      ],
      "id": "1858ea0b"
    },
    {
      "cell_type": "markdown",
      "metadata": {
        "id": "180c3aa9"
      },
      "source": [
        "La segunda rama contiene otra sentencia `if`, que tiene dos ramas en sí misma. "
      ],
      "id": "180c3aa9"
    },
    {
      "cell_type": "markdown",
      "metadata": {
        "id": "3dcfdb1e"
      },
      "source": [
        "Estas dos ramas son ambas sentencias de salida de datos, aunque podrían ser igualmente sentencias condicionales."
      ],
      "id": "3dcfdb1e"
    },
    {
      "cell_type": "markdown",
      "metadata": {
        "id": "5f929ea6"
      },
      "source": [
        "Aunque la indentación de las sentencias hace la estructura evidente, las condiciones anidadas en seguida se vuelven difíciles de leer. "
      ],
      "id": "5f929ea6"
    },
    {
      "cell_type": "markdown",
      "metadata": {
        "id": "136b1399"
      },
      "source": [
        "En general es una buena idea evitarlas cuando pueda."
      ],
      "id": "136b1399"
    },
    {
      "cell_type": "markdown",
      "metadata": {
        "id": "31ce2711"
      },
      "source": [
        "Los operadores lógicos suelen facilitar un modo de simplificar las sentencias condicionales anidadas. "
      ],
      "id": "31ce2711"
    },
    {
      "cell_type": "markdown",
      "metadata": {
        "id": "3faa4e5a"
      },
      "source": [
        "Por ejemplo, podemos reescribir el código siguiente con un sólo condicional:"
      ],
      "id": "3faa4e5a"
    },
    {
      "cell_type": "code",
      "metadata": {
        "id": "1196c8ae"
      },
      "source": [
        "if 0 < x:\n",
        "    if x < 10:\n",
        "        print(\"x es un número positivo de un dígito.\")"
      ],
      "id": "1196c8ae",
      "execution_count": null,
      "outputs": []
    },
    {
      "cell_type": "markdown",
      "metadata": {
        "id": "601327ac"
      },
      "source": [
        "La sentencia print sólo se ejecuta si conseguimos superar ambos condicionales, así que podemos usar el operador `and` "
      ],
      "id": "601327ac"
    },
    {
      "cell_type": "code",
      "metadata": {
        "id": "5350029a"
      },
      "source": [
        "if 0 < x and x < 10:\n",
        "    print(\"x es un número positivo de un dígito.\")"
      ],
      "id": "5350029a",
      "execution_count": null,
      "outputs": []
    },
    {
      "cell_type": "markdown",
      "metadata": {
        "id": "a54474c5"
      },
      "source": [
        "Estos tipos de condiciones son habituales, por lo que Python nos proporciona una sintaxis alternativa similar a la notación matemática:"
      ],
      "id": "a54474c5"
    },
    {
      "cell_type": "code",
      "metadata": {
        "id": "40b76eb6"
      },
      "source": [
        "if 0 < x < 10:\n",
        "    print(\"x es un número positivo de un dígito.\") "
      ],
      "id": "40b76eb6",
      "execution_count": null,
      "outputs": []
    },
    {
      "cell_type": "markdown",
      "metadata": {
        "id": "7e9601be"
      },
      "source": [
        "Esta condición es semánticamente la misma que la expresión booleana compuesta y que el condicional anidado."
      ],
      "id": "7e9601be"
    },
    {
      "cell_type": "code",
      "metadata": {
        "id": "cc783d33"
      },
      "source": [
        ""
      ],
      "id": "cc783d33",
      "execution_count": null,
      "outputs": []
    },
    {
      "cell_type": "code",
      "metadata": {
        "id": "e5d20f9b"
      },
      "source": [
        ""
      ],
      "id": "e5d20f9b",
      "execution_count": null,
      "outputs": []
    },
    {
      "cell_type": "markdown",
      "metadata": {
        "id": "2b65a133"
      },
      "source": [
        "## Referentes\n",
        "\n",
        "* Downey "
      ],
      "id": "2b65a133"
    },
    {
      "cell_type": "code",
      "metadata": {
        "id": "84b83184"
      },
      "source": [
        ""
      ],
      "id": "84b83184",
      "execution_count": null,
      "outputs": []
    }
  ]
}