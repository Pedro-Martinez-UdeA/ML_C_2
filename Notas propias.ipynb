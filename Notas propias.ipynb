{
  "nbformat": 4,
  "nbformat_minor": 0,
  "metadata": {
    "colab": {
      "name": " ML_C_2.ipynb",
      "provenance": [],
      "collapsed_sections": [],
      "authorship_tag": "ABX9TyOgTr5H7qQK3FId2CEp77/W",
      "include_colab_link": true
    },
    "kernelspec": {
      "name": "python3",
      "display_name": "Python 3"
    },
    "language_info": {
      "name": "python"
    }
  },
  "cells": [
    {
      "cell_type": "markdown",
      "metadata": {
        "id": "view-in-github",
        "colab_type": "text"
      },
      "source": [
        "<a href=\"https://colab.research.google.com/github/Pedro-Martinez-UdeA/PC2/blob/main/ML_C_2.ipynb\" target=\"_parent\"><img src=\"https://colab.research.google.com/assets/colab-badge.svg\" alt=\"Open In Colab\"/></a>"
      ]
    },
    {
      "cell_type": "markdown",
      "metadata": {
        "id": "nTEIOzQC6DSK"
      },
      "source": [
        "## >>> #OPERACIONES MATEMATICAS"
      ]
    },
    {
      "cell_type": "code",
      "metadata": {
        "colab": {
          "base_uri": "https://localhost:8080/"
        },
        "id": "izXDIOic6r0X",
        "outputId": "7abdd64b-9d6a-43ba-ead0-bc85e2481b07"
      },
      "source": [
        ">>> 5+9\n",
        "14\n",
        ">>> 4*5\n",
        "20\n",
        ">>> 4/3\n",
        "1.3333333333333333\n",
        ">>> 4//3\n",
        "1\n",
        ">>> 4/2\n",
        "2.0\n",
        ">>> 4%5\n",
        "4\n",
        ">>> 5%4\n",
        "1"
      ],
      "execution_count": null,
      "outputs": [
        {
          "output_type": "execute_result",
          "data": {
            "text/plain": [
              "1"
            ]
          },
          "metadata": {},
          "execution_count": 10
        }
      ]
    },
    {
      "cell_type": "markdown",
      "metadata": {
        "id": "wq3AMYWV6ugy"
      },
      "source": [
        "# >>> #RESIDUO PARA PARES 0 , RESIDUO 1 PARA IMPARES (CUANSO SE DIVIDEN POR 2)\n"
      ]
    },
    {
      "cell_type": "code",
      "metadata": {
        "colab": {
          "base_uri": "https://localhost:8080/"
        },
        "id": "mwGEHrT56xU9",
        "outputId": "010f49b0-3cff-47c7-cf5d-2c2a959b61de"
      },
      "source": [
        ">>> 5%2\n",
        "1\n",
        ">>> 4%2\n",
        "0"
      ],
      "execution_count": null,
      "outputs": [
        {
          "output_type": "execute_result",
          "data": {
            "text/plain": [
              "0"
            ]
          },
          "metadata": {},
          "execution_count": 11
        }
      ]
    },
    {
      "cell_type": "markdown",
      "metadata": {
        "id": "78ts4n9F60Gv"
      },
      "source": [
        "# >>> # \"pow\" ES HOMOLOGA A USAR \"**\" EN UN NUMERO PARA ELEVARLO A UNA POTENCIA\n"
      ]
    },
    {
      "cell_type": "code",
      "metadata": {
        "colab": {
          "base_uri": "https://localhost:8080/"
        },
        "id": "Ojdldau87VlF",
        "outputId": "030c642e-ab64-474c-e22b-39eaa7bc27e8"
      },
      "source": [
        ">>> 3**2\n",
        "9\n",
        ">>> pow(3,2)\n",
        "9\n"
      ],
      "execution_count": null,
      "outputs": [
        {
          "output_type": "execute_result",
          "data": {
            "text/plain": [
              "9"
            ]
          },
          "metadata": {},
          "execution_count": 12
        },
        {
          "output_type": "execute_result",
          "data": {
            "text/plain": [
              "9"
            ]
          },
          "metadata": {},
          "execution_count": 15
        }
      ]
    },
    {
      "cell_type": "markdown",
      "metadata": {
        "id": "hu_9BupT7XyC"
      },
      "source": [
        "# >>> # LAS CADENAS DE TXT SE CARACTERIZAN CON LAS \"\"/'' EN LA FUNCION PRINT, ESTAS NO SON NECESARIAS PARA OPERACIONES MATEMATICAS\n"
      ]
    },
    {
      "cell_type": "code",
      "metadata": {
        "colab": {
          "base_uri": "https://localhost:8080/"
        },
        "id": "b2YBqkkg7etZ",
        "outputId": "72a6899e-9166-4bee-e023-dd00bc1fa812"
      },
      "source": [
        ">>> print(2+3)\n",
        "5\n",
        ">>> print(\"2+3\")\n",
        "2+3\n",
        ">>> ########\n",
        ">>> n=3\n",
        ">>> print(n%2)\n",
        "1\n",
        ">>> #####\n",
        ">>> a,b=3,7\n",
        ">>> a\n",
        "3\n",
        ">>> b\n",
        "7\n",
        ">>> a,b\n",
        "(3, 7)\n",
        ">>> a+b\n",
        "10\n",
        ">>> print(1+2*3)\n",
        "7"
      ],
      "execution_count": null,
      "outputs": [
        {
          "output_type": "stream",
          "name": "stdout",
          "text": [
            "5\n",
            "2+3\n",
            "1\n",
            "7\n"
          ]
        },
        {
          "output_type": "execute_result",
          "data": {
            "text/plain": [
              "7"
            ]
          },
          "metadata": {},
          "execution_count": 13
        }
      ]
    },
    {
      "cell_type": "markdown",
      "metadata": {
        "id": "WnXTIwbt7lpc"
      },
      "source": [
        "# >>> #VALORES BOOLEANOS\n"
      ]
    },
    {
      "cell_type": "code",
      "metadata": {
        "colab": {
          "base_uri": "https://localhost:8080/"
        },
        "id": "GVyMKiFZ7qd5",
        "outputId": "e86625dd-45e1-4ae6-bd01-298256ef98d8"
      },
      "source": [
        ">>> True\n",
        "True\n",
        ">>> False\n",
        "False\n",
        ">>> 3<2\n",
        "False\n",
        ">>> 3>2\n",
        "True\n",
        ">>> ## \"diferente de\" (' != ')\n",
        ">>> ## \"diferente de\" (' != ')\n",
        ">>> ## \"igual a\" (' == ')\n",
        ">>> 3!=1\n",
        "True\n",
        ">>> 8==3\n",
        "False\n",
        ">>> 8>=3\n",
        "True\n",
        ">>> 3>=8\n",
        "False"
      ],
      "execution_count": null,
      "outputs": [
        {
          "output_type": "execute_result",
          "data": {
            "text/plain": [
              "False"
            ]
          },
          "metadata": {},
          "execution_count": 14
        }
      ]
    }
  ]
}
